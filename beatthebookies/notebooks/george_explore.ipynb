{
 "cells": [
  {
   "cell_type": "markdown",
   "metadata": {},
   "source": [
    "# Final Project - Beat the Bookies"
   ]
  },
  {
   "cell_type": "markdown",
   "metadata": {},
   "source": [
    "## Day One - Initial Data Exploration"
   ]
  },
  {
   "cell_type": "markdown",
   "metadata": {},
   "source": [
    "The goal of today is:\n",
    "\n",
    "- Create repositories\n",
    "- Add collaborators\n",
    "- Add notebooks to the project\n",
    "- Confirm primary data source\n",
    "- Build a dataframe that includes all the relevant and desired data from our model (check google sheets for the columns). \n",
    "\n",
    "\n",
    "Using the dataset downloaded from kaggle (https://www.kaggle.com/hugomathien/soccer?) - exploring the data available for one season (2015/16) to combine the data into our own dataframe that includes the relevant information that we need for our models.\n",
    "\n",
    "Colummns for the dataset:\n",
    "\n",
    "- Home Team Rank\n",
    "- Home Team Total Wins\n",
    "- Home Team win\n",
    "- Draw\n",
    "- Away Team Win\n",
    "- Away Team Rank\n",
    "\n",
    "To add columns including possesion, reds, yellows, corners, shots at goal, shots on target, goal percentage, throw ins (?), fouls, free kicks. Later on when we know that we can combine the core of the table easily for all seasons.\n",
    "\n",
    "Target:\n",
    "- Home Team win y/n"
   ]
  },
  {
   "cell_type": "markdown",
   "metadata": {},
   "source": [
    "### imports "
   ]
  },
  {
   "cell_type": "code",
   "execution_count": null,
   "metadata": {
    "ExecuteTime": {
     "end_time": "2020-08-25T12:14:36.622571Z",
     "start_time": "2020-08-25T12:14:36.279268Z"
    }
   },
   "outputs": [],
   "source": [
    "import pandas as pd\n",
    "import numpy as np \n",
    "import sqlite3"
   ]
  },
  {
   "cell_type": "markdown",
   "metadata": {},
   "source": [
    "### importing the data from sqlite"
   ]
  },
  {
   "cell_type": "code",
   "execution_count": null,
   "metadata": {
    "ExecuteTime": {
     "end_time": "2020-08-25T12:14:37.033464Z",
     "start_time": "2020-08-25T12:14:36.996825Z"
    }
   },
   "outputs": [
    {
     "ename": "OperationalError",
     "evalue": "unable to open database file",
     "output_type": "error",
     "traceback": [
      "\u001b[0;31m---------------------------------------------------------------------------\u001b[0m",
      "\u001b[0;31mOperationalError\u001b[0m                          Traceback (most recent call last)",
      "\u001b[0;32m<ipython-input-4-033c5fda9323>\u001b[0m in \u001b[0;36m<module>\u001b[0;34m\u001b[0m\n\u001b[1;32m      2\u001b[0m \u001b[0mpath\u001b[0m \u001b[0;34m=\u001b[0m \u001b[0;34m'/Users/georgebrockman/code/georgebrockman/beatthebookies/beatthebookies/data/database.sqlite'\u001b[0m\u001b[0;34m\u001b[0m\u001b[0;34m\u001b[0m\u001b[0m\n\u001b[1;32m      3\u001b[0m \u001b[0;31m# create the connection\u001b[0m\u001b[0;34m\u001b[0m\u001b[0;34m\u001b[0m\u001b[0;34m\u001b[0m\u001b[0m\n\u001b[0;32m----> 4\u001b[0;31m \u001b[0mconn\u001b[0m \u001b[0;34m=\u001b[0m \u001b[0msqlite3\u001b[0m\u001b[0;34m.\u001b[0m\u001b[0mconnect\u001b[0m\u001b[0;34m(\u001b[0m\u001b[0mpath\u001b[0m\u001b[0;34m)\u001b[0m\u001b[0;34m\u001b[0m\u001b[0;34m\u001b[0m\u001b[0m\n\u001b[0m\u001b[1;32m      5\u001b[0m \u001b[0;31m# create the cursor\u001b[0m\u001b[0;34m\u001b[0m\u001b[0;34m\u001b[0m\u001b[0;34m\u001b[0m\u001b[0m\n\u001b[1;32m      6\u001b[0m \u001b[0mcursor\u001b[0m \u001b[0;34m=\u001b[0m \u001b[0mconn\u001b[0m\u001b[0;34m.\u001b[0m\u001b[0mcursor\u001b[0m\u001b[0;34m(\u001b[0m\u001b[0;34m)\u001b[0m\u001b[0;34m\u001b[0m\u001b[0;34m\u001b[0m\u001b[0m\n",
      "\u001b[0;31mOperationalError\u001b[0m: unable to open database file"
     ]
    }
   ],
   "source": [
    "# create the file path (include two beatthebookies)\n",
    "path = '/Users/georgebrockman/code/georgebrockman/beatthebookies/beatthebookies/data/database.sqlite'\n",
    "# create the connection\n",
    "conn = sqlite3.connect(path)\n",
    "# create the cursor\n",
    "cursor = conn.cursor()"
   ]
  },
  {
   "cell_type": "code",
   "execution_count": null,
   "metadata": {
    "ExecuteTime": {
     "end_time": "2020-08-25T12:14:37.351728Z",
     "start_time": "2020-08-25T12:14:37.345553Z"
    }
   },
   "outputs": [
    {
     "ename": "NameError",
     "evalue": "name 'cursor' is not defined",
     "output_type": "error",
     "traceback": [
      "\u001b[0;31m---------------------------------------------------------------------------\u001b[0m",
      "\u001b[0;31mNameError\u001b[0m                                 Traceback (most recent call last)",
      "\u001b[0;32m<ipython-input-5-86b59f37ca92>\u001b[0m in \u001b[0;36m<module>\u001b[0;34m\u001b[0m\n\u001b[1;32m      3\u001b[0m \u001b[0;31m# order by stages (Game Weeks)\u001b[0m\u001b[0;34m\u001b[0m\u001b[0;34m\u001b[0m\u001b[0;34m\u001b[0m\u001b[0m\n\u001b[1;32m      4\u001b[0m \u001b[0;31m# need quotes around '2015/2016'\u001b[0m\u001b[0;34m\u001b[0m\u001b[0;34m\u001b[0m\u001b[0;34m\u001b[0m\u001b[0m\n\u001b[0;32m----> 5\u001b[0;31m result = cursor.execute(\"\"\" SELECT * FROM \"Match\" m \n\u001b[0m\u001b[1;32m      6\u001b[0m                         \u001b[0mWHERE\u001b[0m \u001b[0mleague_id\u001b[0m \u001b[0;34m=\u001b[0m \u001b[0;36m1729\u001b[0m\u001b[0;34m\u001b[0m\u001b[0;34m\u001b[0m\u001b[0m\n\u001b[1;32m      7\u001b[0m                         \u001b[0mAND\u001b[0m \u001b[0mseason\u001b[0m \u001b[0;34m=\u001b[0m \u001b[0;34m'2015/2016'\u001b[0m\u001b[0;34m\u001b[0m\u001b[0;34m\u001b[0m\u001b[0m\n",
      "\u001b[0;31mNameError\u001b[0m: name 'cursor' is not defined"
     ]
    }
   ],
   "source": [
    "# from the match table we want to select all matches played in the English Premier league for the 2015/16 season.\n",
    "# Premier League - league_id = 1729\n",
    "# order by stages (Game Weeks)\n",
    "# need quotes around '2015/2016'\n",
    "result = cursor.execute(\"\"\" SELECT * FROM \"Match\" m \n",
    "                        WHERE league_id = 1729 \n",
    "                        AND season = '2015/2016' \n",
    "                        ORDER BY stage ASC\"\"\")"
   ]
  },
  {
   "cell_type": "code",
   "execution_count": null,
   "metadata": {
    "ExecuteTime": {
     "end_time": "2020-08-25T12:14:38.729147Z",
     "start_time": "2020-08-25T12:14:38.723220Z"
    }
   },
   "outputs": [],
   "source": [
    "row = result.fetchall()\n",
    "row[0] # seems to be a lot of null values for shots, s"
   ]
  },
  {
   "cell_type": "code",
   "execution_count": null,
   "metadata": {},
   "outputs": [],
   "source": []
  },
  {
   "cell_type": "code",
   "execution_count": null,
   "metadata": {
    "ExecuteTime": {
     "end_time": "2020-08-25T12:14:39.768127Z",
     "start_time": "2020-08-25T12:14:39.762094Z"
    }
   },
   "outputs": [
    {
     "ename": "NameError",
     "evalue": "name 'conn' is not defined",
     "output_type": "error",
     "traceback": [
      "\u001b[0;31m---------------------------------------------------------------------------\u001b[0m",
      "\u001b[0;31mNameError\u001b[0m                                 Traceback (most recent call last)",
      "\u001b[0;32m<ipython-input-7-46e6d4010a66>\u001b[0m in \u001b[0;36m<module>\u001b[0;34m\u001b[0m\n\u001b[1;32m      3\u001b[0m                         \u001b[0mWHERE\u001b[0m \u001b[0mleague_id\u001b[0m \u001b[0;34m=\u001b[0m \u001b[0;36m1729\u001b[0m\u001b[0;34m\u001b[0m\u001b[0;34m\u001b[0m\u001b[0m\n\u001b[1;32m      4\u001b[0m                         \u001b[0mAND\u001b[0m \u001b[0mseason\u001b[0m \u001b[0;34m=\u001b[0m \u001b[0;34m'2015/2016'\u001b[0m\u001b[0;34m\u001b[0m\u001b[0;34m\u001b[0m\u001b[0m\n\u001b[0;32m----> 5\u001b[0;31m                         ORDER BY stage ASC\"\"\", conn)\n\u001b[0m",
      "\u001b[0;31mNameError\u001b[0m: name 'conn' is not defined"
     ]
    }
   ],
   "source": [
    "# create a DataFrame from the SQL query\n",
    "matches_df = pd.read_sql(\"\"\" SELECT * FROM \"Match\" m \n",
    "                        WHERE league_id = 1729 \n",
    "                        AND season = '2015/2016' \n",
    "                        ORDER BY stage ASC\"\"\", conn)"
   ]
  },
  {
   "cell_type": "code",
   "execution_count": null,
   "metadata": {
    "ExecuteTime": {
     "end_time": "2020-08-25T12:14:40.019987Z",
     "start_time": "2020-08-25T12:14:40.014332Z"
    }
   },
   "outputs": [],
   "source": [
    "# inspect the DataFrame\n",
    "matches_df.columns.values"
   ]
  },
  {
   "cell_type": "code",
   "execution_count": null,
   "metadata": {
    "ExecuteTime": {
     "end_time": "2020-08-25T12:14:40.426161Z",
     "start_time": "2020-08-25T12:14:40.414740Z"
    }
   },
   "outputs": [
    {
     "ename": "NameError",
     "evalue": "name 'matches_df' is not defined",
     "output_type": "error",
     "traceback": [
      "\u001b[0;31m---------------------------------------------------------------------------\u001b[0m",
      "\u001b[0;31mNameError\u001b[0m                                 Traceback (most recent call last)",
      "\u001b[0;32m<ipython-input-9-8b9a7accb6ed>\u001b[0m in \u001b[0;36m<module>\u001b[0;34m\u001b[0m\n\u001b[1;32m      1\u001b[0m \u001b[0;31m# we can remove all the ones not needed for home-away goal data\u001b[0m\u001b[0;34m\u001b[0m\u001b[0;34m\u001b[0m\u001b[0;34m\u001b[0m\u001b[0m\n\u001b[0;32m----> 2\u001b[0;31m simple_matches = matches_df.drop(['home_player_X1',\n\u001b[0m\u001b[1;32m      3\u001b[0m        \u001b[0;34m'home_player_X2'\u001b[0m\u001b[0;34m,\u001b[0m \u001b[0;34m'home_player_X3'\u001b[0m\u001b[0;34m,\u001b[0m \u001b[0;34m'home_player_X4'\u001b[0m\u001b[0;34m,\u001b[0m\u001b[0;34m\u001b[0m\u001b[0;34m\u001b[0m\u001b[0m\n\u001b[1;32m      4\u001b[0m        \u001b[0;34m'home_player_X5'\u001b[0m\u001b[0;34m,\u001b[0m \u001b[0;34m'home_player_X6'\u001b[0m\u001b[0;34m,\u001b[0m \u001b[0;34m'home_player_X7'\u001b[0m\u001b[0;34m,\u001b[0m\u001b[0;34m\u001b[0m\u001b[0;34m\u001b[0m\u001b[0m\n\u001b[1;32m      5\u001b[0m        \u001b[0;34m'home_player_X8'\u001b[0m\u001b[0;34m,\u001b[0m \u001b[0;34m'home_player_X9'\u001b[0m\u001b[0;34m,\u001b[0m \u001b[0;34m'home_player_X10'\u001b[0m\u001b[0;34m,\u001b[0m\u001b[0;34m\u001b[0m\u001b[0;34m\u001b[0m\u001b[0m\n",
      "\u001b[0;31mNameError\u001b[0m: name 'matches_df' is not defined"
     ]
    }
   ],
   "source": [
    "# we can remove all the ones not needed for home-away goal data\n",
    "simple_matches = matches_df.drop(['home_player_X1',\n",
    "       'home_player_X2', 'home_player_X3', 'home_player_X4',\n",
    "       'home_player_X5', 'home_player_X6', 'home_player_X7',\n",
    "       'home_player_X8', 'home_player_X9', 'home_player_X10',\n",
    "       'home_player_X11', 'away_player_X1', 'away_player_X2',\n",
    "       'away_player_X3', 'away_player_X4', 'away_player_X5',\n",
    "       'away_player_X6', 'away_player_X7', 'away_player_X8',\n",
    "       'away_player_X9', 'away_player_X10', 'away_player_X11',\n",
    "       'home_player_Y1', 'home_player_Y2', 'home_player_Y3',\n",
    "       'home_player_Y4', 'home_player_Y5', 'home_player_Y6',\n",
    "       'home_player_Y7', 'home_player_Y8', 'home_player_Y9',\n",
    "       'home_player_Y10', 'home_player_Y11', 'away_player_Y1',\n",
    "       'away_player_Y2', 'away_player_Y3', 'away_player_Y4',\n",
    "       'away_player_Y5', 'away_player_Y6', 'away_player_Y7',\n",
    "       'away_player_Y8', 'away_player_Y9', 'away_player_Y10',\n",
    "       'away_player_Y11', 'home_player_1', 'home_player_2',\n",
    "       'home_player_3', 'home_player_4', 'home_player_5', 'home_player_6',\n",
    "       'home_player_7', 'home_player_8', 'home_player_9',\n",
    "       'home_player_10', 'home_player_11', 'away_player_1',\n",
    "       'away_player_2', 'away_player_3', 'away_player_4', 'away_player_5',\n",
    "       'away_player_6', 'away_player_7', 'away_player_8', 'away_player_9',\n",
    "       'away_player_10', 'away_player_11', 'goal', 'shoton', 'shotoff',\n",
    "       'foulcommit', 'card', 'cross', 'corner', 'possession', 'B365H',\n",
    "       'B365D', 'B365A', 'BWH', 'BWD', 'BWA', 'IWH', 'IWD', 'IWA', 'LBH',\n",
    "       'LBD', 'LBA', 'PSH', 'PSD', 'PSA', 'WHH', 'WHD', 'WHA', 'SJH',\n",
    "       'SJD', 'SJA', 'VCH', 'VCD', 'VCA', 'GBH', 'GBD', 'GBA', 'BSH',\n",
    "       'BSD', 'BSA'], axis=1)"
   ]
  },
  {
   "cell_type": "code",
   "execution_count": null,
   "metadata": {
    "hidden": true
   },
   "outputs": [],
   "source": [
    "simple_matches.head(5)"
   ]
  },
  {
   "cell_type": "code",
   "execution_count": null,
   "metadata": {
    "hidden": true
   },
   "outputs": [],
   "source": [
    "simple_matches['home_goals']= simple_matches.groupby('home_team_api_id')['home_team_goal'].cumsum().fillna(0)"
   ]
  },
  {
   "cell_type": "code",
   "execution_count": null,
   "metadata": {
    "hidden": true
   },
   "outputs": [],
   "source": [
    "simple_matches['away_goals']= simple_matches.groupby('away_team_api_id')['away_team_goal'].cumsum().fillna(0)"
   ]
  },
  {
   "cell_type": "code",
   "execution_count": null,
   "metadata": {
    "hidden": true
   },
   "outputs": [],
   "source": [
    "simple_matches"
   ]
  },
  {
   "cell_type": "code",
   "execution_count": null,
   "metadata": {
    "hidden": true
   },
   "outputs": [],
   "source": [
    "simple_matches.info()"
   ]
  },
  {
   "cell_type": "code",
   "execution_count": null,
   "metadata": {
    "hidden": true
   },
   "outputs": [],

   "source": [
    "simple_matches['home_wins'] = simple_matches.home_team_goal > simple_matches.away_team_goal\n",
    "simple_matches['draws'] = simple_matches.home_team_goal == simple_matches.away_team_goal\n",
    "simple_matches['away_wins'] = simple_matches.home_team_goal < simple_matches.away_team_goal\n",
    "simple_matches"
   ]
  },
  {
   "cell_type": "code",

   "execution_count": null,
   "metadata": {
    "hidden": true
   },

   "outputs": [],
   "source": [
    "# convert booleans into binary numbers \n",
    "simple_matches['home_wins'] = simple_matches['home_wins'].astype(int)\n",
    "simple_matches['draws'] = simple_matches['draws'].astype(int)\n",
    "simple_matches['away_wins'] = simple_matches['away_wins'].astype(int)\n"
   ]
  },
  {
   "cell_type": "code",
   "execution_count": null,
   "metadata": {
    "hidden": true
   },
   "outputs": [],
   "source": [
    "simple_matches.head()"
   ]
  },
  {
   "cell_type": "code",
   "execution_count": null,
   "metadata": {
    "hidden": true
   },

   "outputs": [],
   "source": [
    "# create cumulative home, draw and away wins grouping by each team id\n",
    "\n",
    "simple_matches['cumulative_home_wins_home'] = simple_matches.groupby('home_team_api_id')['home_wins'].cumsum().fillna(0)\n",
    "simple_matches['cumulative_away_wins_home'] = simple_matches.groupby('home_team_api_id')['home_wins'].cumsum().fillna(0)\n",
    "simple_matches['cumulative_home_wins_away'] = simple_matches.groupby('away_team_api_id')['away_wins'].cumsum().fillna(0)\n",
    "# simple_matches['cumulative_draws'] = simple_matches.groupby('home_team_api_id')['draws'].cumsum().fillna(0)\n",
    "simple_matches['cumulative_away_wins_away'] = simple_matches.groupby('away_team_api_id')['away_wins'].cumsum().fillna(0)\n"
   ]
  },
  {
   "cell_type": "code",
   "execution_count": null,
   "metadata": {
    "scrolled": true
   },
   "outputs": [],
   "source": [
    "simple_matches.tail(20)"
   ]
  },
  {
   "cell_type": "code",
   "execution_count": null,
   "metadata": {},
   "outputs": [],
   "source": []
  },
  {
   "cell_type": "markdown",
   "metadata": {},
   "source": [
    "## Day two - Comparing bets (2015/2016)"
   ]
  },
  {
   "cell_type": "markdown",
   "metadata": {},
   "source": [
    "The goal of today is to find a baseline betting profit and loss for our model to compare with.\n",
    "\n",
    "From the data set we are going to look at the odds offered by the betting firm Ladbrokes on home win, away win and draw.\n",
    "\n",
    "- Placing a ten pound bet on the favourite (team with lowest odds).\n",
    "- Placing a ten pound bet on the Home team every time.\n",
    "- Placing a ten pound bet on a draw every match.\n",
    "- placing a ten pound bet on the underdog (team with highest odds).\n",
    "- placing a ten pound bet on the away team.\n",
    "\n",
    "Maximum loss is the ten pound stake - so after 380 matches worst case scenario is **£3800 down**. \n"
   ]
  },
  {
   "cell_type": "markdown",
   "metadata": {},
   "source": [
    "### Import the betting data"
   ]
  },
  {
   "cell_type": "code",
   "execution_count": null,
   "metadata": {},
   "outputs": [],
   "source": [
    "import pandas as pd\n",
    "import numpy as np \n",
    "import sqlite3"
   ]
  },
  {
   "cell_type": "code",
   "execution_count": null,
   "metadata": {},
   "outputs": [],
   "source": [
    "# create the file path (include two beatthebookies)\n",
    "path = '/Users/georgebrockman/code/georgebrockman/beatthebookies/beatthebookies/data/database.sqlite'\n",
    "# create the connection\n",
    "conn = sqlite3.connect(path)\n",
    "# create the cursor\n",
    "cursor = conn.cursor()"
   ]
  },
  {
   "cell_type": "code",
   "execution_count": null,
   "metadata": {},
   "outputs": [],
   "source": [
    "# use joining tables to keep the team names for better clarity\n",
    "matches = pd.read_sql(\"\"\"SELECT m.id, \n",
    "                        m.season, m.stage, m.date, \n",
    "                        ht.team_long_name as home_team, at.team_long_name as away_team, m.home_team_goal, \n",
    "                        m.away_team_goal, LBH, LBD, LBA                                      \n",
    "                        FROM Match as m\n",
    "                        LEFT JOIN Team AS ht on ht.team_api_id = m.home_team_api_id\n",
    "                        LEFT JOIN Team AS at on at.team_api_id = m.away_team_api_id\n",
    "                        WHERE league_id = 1729 AND season = '2015/2016'\n",
    "                        ;\"\"\", conn)"
   ]
  },
  {
   "cell_type": "code",
   "execution_count": null,
   "metadata": {},
   "outputs": [],
   "source": [
    "# sort matches in to cronological order\n",
    "matches.sort_values('date', inplace=True)"
   ]
  },
  {
   "cell_type": "code",
   "execution_count": null,
   "metadata": {},
   "outputs": [],

   "source": [
    "# check correctly imported the required data\n",
    "matches.head()"
   ]
  },
  {
   "cell_type": "code",
   "execution_count": null,
   "metadata": {},
   "outputs": [],
   "source": [
    "# create booleans\n",
    "matches['home_win'] = matches.home_team_goal > matches.away_team_goal\n",
    "matches['draw'] = matches.home_team_goal == matches.away_team_goal\n",
    "matches['away_win'] = matches.home_team_goal < matches.away_team_goal"
   ]
  },
  {
   "cell_type": "code",
   "execution_count": null,
   "metadata": {},
   "outputs": [],
   "source": [
    "# convert booleans into binary numbers \n",
    "matches['home_win'] = matches['home_win'].astype(int)\n",
    "matches['draw'] = matches['draw'].astype(int)\n",
    "matches['away_win'] = matches['away_win'].astype(int)"
   ]
  },
  {
   "cell_type": "markdown",
   "metadata": {},
   "source": [
    "### Profit from betting on favourite"
   ]
  },
  {
   "cell_type": "code",
   "execution_count": null,
   "metadata": {},
   "outputs": [],
   "source": [
    "matches['fav_profit'] = -10"
   ]
  },
  {
   "cell_type": "code",
   "execution_count": null,
   "metadata": {},
   "outputs": [],
   "source": [
    "matches.head()"
   ]
  },
  {
   "cell_type": "code",
   "execution_count": null,
   "metadata": {},
   "outputs": [],
   "source": [
    "matches.loc[(matches[['LBH','LBD','LBA']].min(axis=1) == matches['LBH']) & (matches['home_win'] == 1), 'fav_profit'] = matches['LBH'] * 10\n",
    "matches.loc[(matches[['LBH','LBD','LBA']].min(axis=1) == matches['LBD']) & (matches['draw'] == 1), 'fav_profit'] = matches['LBD'] * 10\n",
    "matches.loc[(matches[['LBH','LBD','LBA']].min(axis=1) == matches['LBA']) & (matches['away_win'] == 1), 'fav_profit'] = matches['LBA'] * 10\n"
   ]
  },
  {
   "cell_type": "code",
   "execution_count": null,
   "metadata": {},
   "outputs": [],
   "source": [
    "matches"
   ]
  },
  {
   "cell_type": "markdown",
   "metadata": {},
   "source": [
    "### Profit betting on Underdog"
   ]
  },
  {
   "cell_type": "code",
   "execution_count": null,
   "metadata": {},
   "outputs": [],
   "source": [
    "matches['dog_profit'] = -10"
   ]
  },
  {
   "cell_type": "code",
   "execution_count": null,
   "metadata": {},
   "outputs": [],
   "source": [
    "matches.loc[(matches[['LBH','LBD','LBA']].max(axis=1) == matches['LBH']) & (matches['home_win'] == 1), 'dog_profit'] = matches['LBH'] * 10\n",
    "matches.loc[(matches[['LBH','LBD','LBA']].max(axis=1) == matches['LBD']) & (matches['draw'] == 1), 'dog_profit'] = matches['LBD'] * 10\n",
    "matches.loc[(matches[['LBH','LBD','LBA']].max(axis=1) == matches['LBA']) & (matches['away_win'] == 1), 'dog_profit'] = matches['LBA'] * 10"
   ]
  },
  {
   "cell_type": "code",
   "execution_count": null,
   "metadata": {},
   "outputs": [],
   "source": [
    "matches.head()"
   ]
  },
  {
   "cell_type": "markdown",
   "metadata": {},
   "source": [
    "### Profit from Home / Draw / Away"
   ]
  },
  {
   "cell_type": "code",
   "execution_count": null,
   "metadata": {},
   "outputs": [],
   "source": [
    "matches['home_profit'] = -10"
   ]
  },
  {
   "cell_type": "code",
   "execution_count": null,
   "metadata": {},
   "outputs": [],
   "source": [
    "matches.loc[(matches['home_win'] == 1), 'home_profit'] = matches['LBH'] * 10 "
   ]
  },
  {
   "cell_type": "code",
   "execution_count": null,
   "metadata": {},
   "outputs": [],
   "source": [
    "matches['draw_profit'] = -10"
   ]
  },
  {
   "cell_type": "code",
   "execution_count": null,
   "metadata": {},
   "outputs": [],
   "source": [
    "matches.loc[(matches['draw'] == 1), 'draw_profit'] = matches['LBD'] * 10 "
   ]
  },
  {
   "cell_type": "code",
   "execution_count": null,
   "metadata": {},
   "outputs": [],
   "source": [
    "matches['away_profit'] = -10"
   ]
  },
  {
   "cell_type": "code",
   "execution_count": null,
   "metadata": {},
   "outputs": [],
   "source": [
    "matches.loc[(matches['away_win'] == 1), 'away_profit'] = matches['LBA'] * 10 "
   ]
  },
  {
   "cell_type": "code",
   "execution_count": null,
   "metadata": {},
   "outputs": [],
   "source": [
    "matches.sort_values('date', inplace=True)"
   ]
  },
  {
   "cell_type": "code",
   "execution_count": null,
   "metadata": {},
   "outputs": [],
   "source": [
    "matches"
   ]
  },
  {
   "cell_type": "markdown",
   "metadata": {},
   "source": [
    "### Cumulative profit totals for each strategey"
   ]
  },
  {
   "cell_type": "code",
   "execution_count": null,
   "metadata": {},
   "outputs": [],
   "source": [
    "# define a function that returns the maximum profit from each strategy\n",
    "def c_profits(X):\n",
    "    fav_profit_cum = X['fav_profit'].sum()\n",
    "    dog_profit_cum = X['dog_profit'].sum()\n",
    "    home_profit_cum = X['home_profit'].sum()\n",
    "    draw_profit_cum = X['draw_profit'].sum()\n",
    "    away_profit_cum = X['away_profit'].sum()\n",
    "    return fav_profit_cum, dog_profit_cum, home_profit_cum,draw_profit_cum, away_profit_cum"
   ]
  },
  {
   "cell_type": "code",
   "execution_count": null,
   "metadata": {},
   "outputs": [],
   "source": [
    "matches['away_profit'].cumsum().tail(1)"
   ]
  },
  {
   "cell_type": "code",
   "execution_count": null,
   "metadata": {},
   "outputs": [],
   "source": [
    "c_profits(matches)"
   ]
  },
  {
   "cell_type": "markdown",
   "metadata": {},
   "source": [
    "Very surpising that the underdog approach was the most profitable method of betting in this season but this was the year that Leicester City won the league. "
   ]
  },
  {
   "cell_type": "markdown",
   "metadata": {
    "heading_collapsed": true
   },
   "source": [
    "### Reorganise methods into functions to apply to all the data"
   ]
  },
  {
   "cell_type": "code",
   "execution_count": null,
   "metadata": {
    "hidden": true
   },
   "outputs": [],
   "source": [
    "# psuedo code\n",
    "# import the data using get_data():\n",
    "# this returns a table with home_w, away_w and draw already added so need to add the boolean and conversion.\n",
    "# first function favourites method\n",
    "# second function is underdog \n",
    "# third is home team \n",
    "# fourth is draw\n",
    "# fifth allways bet away. "
   ]
  },
  {
   "cell_type": "code",
   "execution_count": null,
   "metadata": {
    "hidden": true
   },
   "outputs": [],
   "source": [
    "def pick_the_fav(X, season, bet=10):\n",
    "    \"\"\"\n",
    "    function returns a dataframe that includes the weekly profit/loss for season followng the favourites strategy\n",
    "    \"\"\"\n",
    "    # set defaults profit equal to bet size\n",
    "    X['fav_profit'] = -bet\n",
    "    # update profit column\n",
    "    X.loc[(matches[['LBH','LBD','LBA']].min(axis=1) == X['LBH']) & (X['home_w'] == 1), 'fav_profit'] = X['LBH'] * 10\n",
    "    X.loc[(matches[['LBH','LBD','LBA']].min(axis=1) == X['LBD']) & (X['draw'] == 1), 'fav_profit'] = X['LBD'] * 10\n",
    "    X.loc[(matches[['LBH','LBD','LBA']].min(axis=1) == X['LBA']) & (X['away_w'] == 1), 'fav_profit'] = X['LBA'] * 10\n",
    "    \n",
    "    return X"
   ]
  },
  {
   "cell_type": "code",
   "execution_count": null,
   "metadata": {
    "hidden": true
   },
   "outputs": [],
   "source": [
    "def pick_the_dog(X, season, bet=10):\n",
    "    \"\"\"\n",
    "    function returns a dataframe that includes the weekly profit/loss for season followng the underdog strategy\n",
    "    \"\"\"\n",
    "    # set defaults profit equal to bet size\n",
    "    X['dog_profit'] = -bet\n",
    "    # update profit column \n",
    "    X.loc[(matches[['LBH','LBD','LBA']].max(axis=1) == X['LBH']) & (X['home_w'] == 1), 'dog_profit'] = X['LBH'] * 10\n",
    "    X.loc[(matches[['LBH','LBD','LBA']].max(axis=1) == X['LBD']) & (X['draw'] == 1), 'dog_profit'] = X['LBD'] * 10\n",
    "    X.loc[(matches[['LBH','LBD','LBA']].max(axis=1) == X['LBA']) & (X['away_w'] == 1), 'dog_profit'] = X['LBA'] * 10\n",
    "    \n",
    "    return X"
   ]
  },
  {
   "cell_type": "code",
   "execution_count": null,
   "metadata": {
    "hidden": true
   },
   "outputs": [],
   "source": [
    "def always_home(X, season, bet=10):\n",
    "    \"\"\"\n",
    "    function returns a dataframe that includes the weekly profit/loss for season following the home team strategy\n",
    "    \"\"\"\n",
    "    X['home_profit'] = -bet\n",
    "    X.loc[(X['home_w'] == 1), 'home_profit'] = X['LBH'] * 10 \n",
    "    \n",
    "    return X"
   ]
  },
  {
   "cell_type": "code",
   "execution_count": null,
   "metadata": {
    "hidden": true
   },
   "outputs": [],
   "source": [
    "def always_draw(X, season, bet=10):\n",
    "    \"\"\"\n",
    "    function returns a dataframe that includes the weekly profit/loss for season following the home team strategy\n",
    "    \"\"\"\n",
    "    X['draw_profit'] = -bet\n",
    "    X.loc[(X['draw'] == 1), 'draw_profit'] = X['LBH'] * 10 \n",
    "    \n",
    "    return X"
   ]
  },
  {
   "cell_type": "code",
   "execution_count": null,
   "metadata": {
    "hidden": true
   },
   "outputs": [],
   "source": [
    "def always_away(X, season, bet=10):\n",
    "    \"\"\"\n",
    "    function returns a dataframe that includes the weekly profit/loss for season following the home team strategy\n",
    "    \"\"\"\n",
    "    X['away_profit'] = -bet\n",
    "    X.loc[(X['away_w'] == 1), 'away_profit'] = X['LBH'] * 10 \n",
    "    \n",
    "    return X"
   ]
  },
  {
   "cell_type": "markdown",
   "metadata": {},
   "source": [
    "### test functions"
   ]
  },
  {
   "cell_type": "code",
   "execution_count": null,
   "metadata": {},
   "outputs": [],
   "source": [
    "%load_ext autoreload\n",
    "%autoreload 2"
   ]
  },
  {
   "cell_type": "code",
   "execution_count": 1,
   "metadata": {},
   "outputs": [],
   "source": [
    "from beatthebookies.data import get_betting_data"
   ]
  },
  {
   "cell_type": "code",
   "execution_count": null,
   "metadata": {},
   "outputs": [],
   "source": [
    "def get_betting_data(season='2015/2016', league=1729, local=False, optimize=False, **kwargs):\n",
    "    path = \"../data/\"\n",
    "    database = path + 'database.sqlite'\n",
    "    conn = sqlite3.connect(database)\n",
    "\n",
    "    df = pd.read_sql(\"\"\"SELECT m.id,\n",
    "                            m.season, m.stage, m.date,\n",
    "                            ht.team_long_name as home_team, at.team_long_name as away_team, m.home_team_goal,\n",
    "                            m.away_team_goal, m.LBH, m.LBD, m.LBA \n",
    "                            FROM Match as m\n",
    "                            LEFT JOIN Team AS ht on ht.team_api_id = m.home_team_api_id\n",
    "                            LEFT JOIN Team AS at on at.team_api_id = m.away_team_api_id\n",
    "                            WHERE league_id = :league AND season = :season\n",
    "                            ;\"\"\", conn, params={\"league\":league, \"season\":season})\n",
    "    # add win columns\n",
    "    df['home_w'] = 0\n",
    "    df['away_w'] = 0\n",
    "    df['draw'] = 0\n",
    "    # set winner\n",
    "    df.loc[df['home_team_goal'] > df['away_team_goal'], 'home_w'] = 1\n",
    "    df.loc[df['home_team_goal'] < df['away_team_goal'], 'away_w'] = 1\n",
    "    df.loc[df['home_team_goal'] == df['away_team_goal'], 'draw'] = 1\n",
    "    # sort into order\n",
    "    df.sort_values('date', inplace=True)\n",
    "\n",
    "    return df"
   ]
  },
  {
   "cell_type": "code",
   "execution_count": null,
   "metadata": {},
   "outputs": [],
   "source": [
    "betting = get_betting_data()"
   ]
  },
  {
   "cell_type": "code",
   "execution_count": null,
   "metadata": {},
   "outputs": [],
   "source": [
    "betting"
   ]
  },
  {
   "cell_type": "code",
   "execution_count": null,
   "metadata": {},
   "outputs": [],
   "source": [
    "def simple_betting_profits(df, bet=10):\n",
    "    \"\"\"\n",
    "    function returns the cumulative profits/loss from a season of following a consistent, simple betting strategy.\n",
    "    \"\"\"\n",
    "    # set defaults profit equal to bet size\n",
    "    # create new column for fav strategy\n",
    "    df['fav_profit'] = -bet\n",
    "    # update profit column\n",
    "    df.loc[(df[['LBH','LBD','LBA']].min(axis=1) == df['LBH']) & (df['home_w'] == 1), 'fav_profit'] = df['LBH'] * bet\n",
    "    df.loc[(df[['LBH','LBD','LBA']].min(axis=1) == df['LBD']) & (df['draw'] == 1), 'fav_profit'] = df['LBD'] * bet\n",
    "    df.loc[(df[['LBH','LBD','LBA']].min(axis=1) == df['LBA']) & (df['away_w'] == 1), 'fav_profit'] = df['LBA'] * bet\n",
    "\n",
    "    # set defaults profit equal to bet size\n",
    "    # create new column for underdog strategy\n",
    "    df['dog_profit'] = -bet\n",
    "    # update profit column\n",
    "    df.loc[(df[['LBH','LBD','LBA']].max(axis=1) == df['LBH']) & (df['home_w'] == 1), 'dog_profit'] = df['LBH'] * bet\n",
    "    df.loc[(df[['LBH','LBD','LBA']].max(axis=1) == df['LBD']) & (df['draw'] == 1), 'dog_profit'] = df['LBD'] * bet\n",
    "    df.loc[(df[['LBH','LBD','LBA']].max(axis=1) == df['LBA']) & (df['away_w'] == 1), 'dog_profit'] = df['LBA'] * bet\n",
    "\n",
    "    # create new column for home team method\n",
    "    df['home_profit'] = -bet\n",
    "    df.loc[(df['home_w'] == 1), 'home_profit'] = df['LBH'] * bet\n",
    "    # create new column for draw tactic\n",
    "    df['draw_profit'] = -bet\n",
    "    df.loc[(df['draw'] == 1), 'draw_profit'] = df['LBD'] * bet\n",
    "    # create new column for betting on the away team\n",
    "    df['away_profit'] = -bet\n",
    "    df.loc[(df['away_w'] == 1), 'away_profit'] = df['LBA'] * bet\n",
    "\n",
    "    fav_profit_total = df['fav_profit'].sum()\n",
    "    dog_profit_total = df['dog_profit'].sum()\n",
    "    home_profit_total = df['home_profit'].sum()\n",
    "    draw_profit_total = df['draw_profit'].sum()\n",
    "    away_profit_total = df['away_profit'].sum()\n",
    "\n",
    "    return fav_profit_total, dog_profit_total, home_profit_total, draw_profit_total, away_profit_total\n"
   ]
  },
  {
   "cell_type": "code",
   "execution_count": null,
   "metadata": {
    "scrolled": true
   },
   "outputs": [],
   "source": [
    "simple_betting_profits(betting)"
   ]
  },
  {
   "cell_type": "code",
   "execution_count": null,
   "metadata": {},
   "outputs": [],
   "source": []
  }
 ],
 "metadata": {
  "kernelspec": {
   "display_name": "Python 3",
   "language": "python",
   "name": "python3"
  },
  "language_info": {
   "codemirror_mode": {
    "name": "ipython",
    "version": 3
   },
   "file_extension": ".py",
   "mimetype": "text/x-python",
   "name": "python",
   "nbconvert_exporter": "python",
   "pygments_lexer": "ipython3",
   "version": "3.7.7"
  },
  "toc": {
   "base_numbering": 1,
   "nav_menu": {},
   "number_sections": true,
   "sideBar": true,
   "skip_h1_title": false,
   "title_cell": "Table of Contents",
   "title_sidebar": "Contents",
   "toc_cell": false,
   "toc_position": {},
   "toc_section_display": true,
   "toc_window_display": false
  },
  "varInspector": {
   "cols": {
    "lenName": 16,
    "lenType": 16,
    "lenVar": 40
   },
   "kernels_config": {
    "python": {
     "delete_cmd_postfix": "",
     "delete_cmd_prefix": "del ",
     "library": "var_list.py",
     "varRefreshCmd": "print(var_dic_list())"
    },
    "r": {
     "delete_cmd_postfix": ") ",
     "delete_cmd_prefix": "rm(",
     "library": "var_list.r",
     "varRefreshCmd": "cat(var_dic_list()) "
    }
   },
   "types_to_exclude": [
    "module",
    "function",
    "builtin_function_or_method",
    "instance",
    "_Feature"
   ],
   "window_display": false
  }
 },
 "nbformat": 4,
 "nbformat_minor": 4
}
