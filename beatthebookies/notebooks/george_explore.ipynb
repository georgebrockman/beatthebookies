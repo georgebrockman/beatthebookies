{
 "cells": [
  {
   "cell_type": "markdown",
   "metadata": {},
   "source": [
    "# Final Project - Beat the Bookies"
   ]
  },
  {
   "cell_type": "markdown",
   "metadata": {},
   "source": [
    "## Day One - Initial Data Exploration"
   ]
  },
  {
   "cell_type": "markdown",
   "metadata": {},
   "source": [
    "The goal of today is:\n",
    "\n",
    "- Create repositories\n",
    "- Add collaborators\n",
    "- Add notebooks to the project\n",
    "- Confirm primary data source\n",
    "- Build a dataframe that includes all the relevant and desired data from our model (check google sheets for the columns). \n",
    "\n",
    "\n",
    "Using the dataset downloaded from kaggle (https://www.kaggle.com/hugomathien/soccer?) - exploring the data available for one season (2015/16) to combine the data into our own dataframe that includes the relevant information that we need for our models.\n",
    "\n",
    "Colummns for the dataset:\n",
    "\n",
    "- Home Team Rank\n",
    "- Home Team Total Wins\n",
    "- Home Team win\n",
    "- Draw\n",
    "- Away Team Win\n",
    "- Away Team Rank\n",
    "\n",
    "To add columns including possesion, reds, yellows, corners, shots at goal, shots on target, goal percentage, throw ins (?), fouls, free kicks. Later on when we know that we can combine the core of the table easily for all seasons.\n",
    "\n",
    "Target:\n",
    "- Home Team win y/n"
   ]
  },
  {
   "cell_type": "markdown",
   "metadata": {},
   "source": [
    "### imports "
   ]
  },
  {
   "cell_type": "code",
   "execution_count": null,
   "metadata": {
    "ExecuteTime": {
     "end_time": "2020-08-25T12:14:36.622571Z",
     "start_time": "2020-08-25T12:14:36.279268Z"
    }
   },
   "outputs": [],
   "source": [
    "import pandas as pd\n",
    "import numpy as np \n",
    "import sqlite3"
   ]
  },
  {
   "cell_type": "markdown",
   "metadata": {},
   "source": [
    "### importing the data from sqlite"
   ]
  },
  {
   "cell_type": "code",
   "execution_count": null,
   "metadata": {
    "ExecuteTime": {
     "end_time": "2020-08-25T12:14:37.033464Z",
     "start_time": "2020-08-25T12:14:36.996825Z"
    }
   },
   "outputs": [],
   "source": [
    "# create the file path (include two beatthebookies)\n",
    "path = '/Users/georgebrockman/code/georgebrockman/beatthebookies/beatthebookies/data/database.sqlite'\n",
    "# create the connection\n",
    "conn = sqlite3.connect(path)\n",
    "# create the cursor\n",
    "cursor = conn.cursor()"
   ]
  },
  {
   "cell_type": "code",
   "execution_count": null,
   "metadata": {
    "ExecuteTime": {
     "end_time": "2020-08-25T12:14:37.351728Z",
     "start_time": "2020-08-25T12:14:37.345553Z"
    }
   },
   "outputs": [],
   "source": [
    "# from the match table we want to select all matches played in the English Premier league for the 2015/16 season.\n",
    "# Premier League - league_id = 1729\n",
    "# order by stages (Game Weeks)\n",
    "# need quotes around '2015/2016'\n",
    "result = cursor.execute(\"\"\" SELECT * FROM \"Match\" m \n",
    "                        WHERE league_id = 1729 \n",
    "                        AND season = '2015/2016' \n",
    "                        ORDER BY stage ASC\"\"\")"
   ]
  },
  {
   "cell_type": "code",
   "execution_count": null,
   "metadata": {
    "ExecuteTime": {
     "end_time": "2020-08-25T12:14:38.729147Z",
     "start_time": "2020-08-25T12:14:38.723220Z"
    }
   },
   "outputs": [],
   "source": [
    "row = result.fetchall()\n",
    "row[0] # seems to be a lot of null values for shots, s"
   ]
  },
  {
   "cell_type": "code",
   "execution_count": null,
   "metadata": {},
   "outputs": [],
   "source": []
  },
  {
   "cell_type": "code",
   "execution_count": null,
   "metadata": {
    "ExecuteTime": {
     "end_time": "2020-08-25T12:14:39.768127Z",
     "start_time": "2020-08-25T12:14:39.762094Z"
    }
   },
   "outputs": [],
   "source": [
    "# create a DataFrame from the SQL query\n",
    "matches_df = pd.read_sql(\"\"\" SELECT * FROM \"Match\" m \n",
    "                        WHERE league_id = 1729 \n",
    "                        AND season = '2015/2016' \n",
    "                        ORDER BY stage ASC\"\"\", conn)"
   ]
  },
  {
   "cell_type": "code",
   "execution_count": null,
   "metadata": {
    "ExecuteTime": {
     "end_time": "2020-08-25T12:14:40.019987Z",
     "start_time": "2020-08-25T12:14:40.014332Z"
    }
   },
   "outputs": [],
   "source": [
    "# inspect the DataFrame\n",
    "matches_df.columns.values"
   ]
  },
  {
   "cell_type": "code",
   "execution_count": null,
   "metadata": {
    "ExecuteTime": {
     "end_time": "2020-08-25T12:14:40.426161Z",
     "start_time": "2020-08-25T12:14:40.414740Z"
    }
   },
   "outputs": [],
   "source": [
    "# we can remove all the ones not needed for home-away goal data\n",
    "simple_matches = matches_df.drop(['home_player_X1',\n",
    "       'home_player_X2', 'home_player_X3', 'home_player_X4',\n",
    "       'home_player_X5', 'home_player_X6', 'home_player_X7',\n",
    "       'home_player_X8', 'home_player_X9', 'home_player_X10',\n",
    "       'home_player_X11', 'away_player_X1', 'away_player_X2',\n",
    "       'away_player_X3', 'away_player_X4', 'away_player_X5',\n",
    "       'away_player_X6', 'away_player_X7', 'away_player_X8',\n",
    "       'away_player_X9', 'away_player_X10', 'away_player_X11',\n",
    "       'home_player_Y1', 'home_player_Y2', 'home_player_Y3',\n",
    "       'home_player_Y4', 'home_player_Y5', 'home_player_Y6',\n",
    "       'home_player_Y7', 'home_player_Y8', 'home_player_Y9',\n",
    "       'home_player_Y10', 'home_player_Y11', 'away_player_Y1',\n",
    "       'away_player_Y2', 'away_player_Y3', 'away_player_Y4',\n",
    "       'away_player_Y5', 'away_player_Y6', 'away_player_Y7',\n",
    "       'away_player_Y8', 'away_player_Y9', 'away_player_Y10',\n",
    "       'away_player_Y11', 'home_player_1', 'home_player_2',\n",
    "       'home_player_3', 'home_player_4', 'home_player_5', 'home_player_6',\n",
    "       'home_player_7', 'home_player_8', 'home_player_9',\n",
    "       'home_player_10', 'home_player_11', 'away_player_1',\n",
    "       'away_player_2', 'away_player_3', 'away_player_4', 'away_player_5',\n",
    "       'away_player_6', 'away_player_7', 'away_player_8', 'away_player_9',\n",
    "       'away_player_10', 'away_player_11', 'goal', 'shoton', 'shotoff',\n",
    "       'foulcommit', 'card', 'cross', 'corner', 'possession', 'B365H',\n",
    "       'B365D', 'B365A', 'BWH', 'BWD', 'BWA', 'IWH', 'IWD', 'IWA', 'LBH',\n",
    "       'LBD', 'LBA', 'PSH', 'PSD', 'PSA', 'WHH', 'WHD', 'WHA', 'SJH',\n",
    "       'SJD', 'SJA', 'VCH', 'VCD', 'VCA', 'GBH', 'GBD', 'GBA', 'BSH',\n",
    "       'BSD', 'BSA'], axis=1)"
   ]
  },
  {
   "cell_type": "code",
   "execution_count": null,
   "metadata": {},
   "outputs": [],
   "source": [
    "simple_matches.head(5)"
   ]
  },
  {
   "cell_type": "code",
   "execution_count": null,
   "metadata": {},
   "outputs": [],
   "source": [
    "simple_matches['home_goals']= simple_matches.groupby('home_team_api_id')['home_team_goal'].cumsum().fillna(0)"
   ]
  },
  {
   "cell_type": "code",
   "execution_count": null,
   "metadata": {},
   "outputs": [],
   "source": [
    "simple_matches['away_goals']= simple_matches.groupby('away_team_api_id')['away_team_goal'].cumsum().fillna(0)"
   ]
  },
  {
   "cell_type": "code",
   "execution_count": null,
   "metadata": {},
   "outputs": [],
   "source": [
    "simple_matches"
   ]
  },
  {
   "cell_type": "code",
   "execution_count": null,
   "metadata": {},
   "outputs": [],
   "source": [
    "simple_matches.info()"
   ]
  },
  {
   "cell_type": "code",
   "execution_count": null,
   "metadata": {},
   "outputs": [],
   "source": [
    "simple_matches['home_wins'] = simple_matches.home_team_goal > simple_matches.away_team_goal\n",
    "simple_matches['draws'] = simple_matches.home_team_goal == simple_matches.away_team_goal\n",
    "simple_matches['away_wins'] = simple_matches.home_team_goal < simple_matches.away_team_goal\n",
    "simple_matches"
   ]
  },
  {
   "cell_type": "code",
   "execution_count": null,
   "metadata": {},
   "outputs": [],
   "source": [
    "# convert booleans into binary numbers \n",
    "simple_matches['home_wins'] = simple_matches['home_wins'].astype(int)\n",
    "simple_matches['draws'] = simple_matches['draws'].astype(int)\n",
    "simple_matches['away_wins'] = simple_matches['away_wins'].astype(int)\n"
   ]
  },
  {
   "cell_type": "code",
   "execution_count": null,
   "metadata": {},
   "outputs": [],
   "source": [
    "simple_matches.head()"
   ]
  },
  {
   "cell_type": "code",
   "execution_count": null,
   "metadata": {},
   "outputs": [],
   "source": [
    "# create cumulative home, draw and away wins grouping by each team id\n",
    "\n",
    "simple_matches['cumulative_home_wins_home'] = simple_matches.groupby('home_team_api_id')['home_wins'].cumsum().fillna(0)\n",
    "simple_matches['cumulative_away_wins_home'] = simple_matches.groupby('home_team_api_id')['home_wins'].cumsum().fillna(0)\n",
    "simple_matches['cumulative_home_wins_away'] = simple_matches.groupby('away_team_api_id')['away_wins'].cumsum().fillna(0)\n",
    "# simple_matches['cumulative_draws'] = simple_matches.groupby('home_team_api_id')['draws'].cumsum().fillna(0)\n",
    "simple_matches['cumulative_away_wins_away'] = simple_matches.groupby('away_team_api_id')['away_wins'].cumsum().fillna(0)\n"
   ]
  },
  {
   "cell_type": "code",
   "execution_count": null,
   "metadata": {
    "scrolled": true
   },
   "outputs": [],
   "source": [
    "simple_matches.tail(20)"
   ]
  },
  {
   "cell_type": "markdown",
   "metadata": {},
   "source": [
    "## Day Two - Comparing bets (2015/2016)"
   ]
  },
  {
   "cell_type": "markdown",
   "metadata": {},
   "source": [
    "The goal of today is to find a baseline betting profit and loss for our model to compare with.\n",
    "\n",
    "From the data set we are going to look at the odds offered by the betting firm Ladbrokes on home win, away win and draw.\n",
    "\n",
    "- Placing a ten pound bet on the favourite (team with lowest odds).\n",
    "- Placing a ten pound bet on the Home team every time.\n",
    "- Placing a ten pound bet on a draw every match.\n",
    "- placing a ten pound bet on the underdog (team with highest odds).\n",
    "- placing a ten pound bet on the away team.\n",
    "\n",
    "Maximum loss is the ten pound stake - so after 380 matches worst case scenario is **£3800 down**. \n"
   ]
  },
  {
   "cell_type": "markdown",
   "metadata": {},
   "source": [
    "### Import the betting data"
   ]
  },
  {
   "cell_type": "code",
   "execution_count": null,
   "metadata": {},
   "outputs": [],
   "source": [
    "import pandas as pd\n",
    "import numpy as np \n",
    "import sqlite3"
   ]
  },
  {
   "cell_type": "code",
   "execution_count": null,
   "metadata": {},
   "outputs": [],
   "source": [
    "# create the file path (include two beatthebookies)\n",
    "path = '/Users/georgebrockman/code/georgebrockman/beatthebookies/beatthebookies/data/database.sqlite'\n",
    "# create the connection\n",
    "conn = sqlite3.connect(path)\n",
    "# create the cursor\n",
    "cursor = conn.cursor()"
   ]
  },
  {
   "cell_type": "code",
   "execution_count": null,
   "metadata": {},
   "outputs": [],
   "source": [
    "# use joining tables to keep the team names for better clarity\n",
    "matches = pd.read_sql(\"\"\"SELECT m.id, \n",
    "                        m.season, m.stage, m.date, \n",
    "                        ht.team_long_name as home_team, at.team_long_name as away_team, m.home_team_goal, \n",
    "                        m.away_team_goal, LBH, LBD, LBA                                      \n",
    "                        FROM Match as m\n",
    "                        LEFT JOIN Team AS ht on ht.team_api_id = m.home_team_api_id\n",
    "                        LEFT JOIN Team AS at on at.team_api_id = m.away_team_api_id\n",
    "                        WHERE league_id = 1729 AND season = '2015/2016'\n",
    "                        ;\"\"\", conn)"
   ]
  },
  {
   "cell_type": "code",
   "execution_count": null,
   "metadata": {},
   "outputs": [],
   "source": [
    "# sort matches in to cronological order\n",
    "matches.sort_values('date', inplace=True)"
   ]
  },
  {
   "cell_type": "code",
   "execution_count": null,
   "metadata": {},
   "outputs": [],
   "source": [
    "# check correctly imported the required data\n",
    "matches.head()"
   ]
  },
  {
   "cell_type": "code",
   "execution_count": null,
   "metadata": {},
   "outputs": [],
   "source": [
    "# create booleans\n",
    "matches['home_win'] = matches.home_team_goal > matches.away_team_goal\n",
    "matches['draw'] = matches.home_team_goal == matches.away_team_goal\n",
    "matches['away_win'] = matches.home_team_goal < matches.away_team_goal"
   ]
  },
  {
   "cell_type": "code",
   "execution_count": null,
   "metadata": {},
   "outputs": [],
   "source": [
    "# convert booleans into binary numbers \n",
    "matches['home_win'] = matches['home_win'].astype(int)\n",
    "matches['draw'] = matches['draw'].astype(int)\n",
    "matches['away_win'] = matches['away_win'].astype(int)"
   ]
  },
  {
   "cell_type": "markdown",
   "metadata": {},
   "source": [
    "### Profit from betting on favourite"
   ]
  },
  {
   "cell_type": "code",
   "execution_count": null,
   "metadata": {},
   "outputs": [],
   "source": [
    "matches['fav_profit'] = -10"
   ]
  },
  {
   "cell_type": "code",
   "execution_count": null,
   "metadata": {},
   "outputs": [],
   "source": [
    "matches.head()"
   ]
  },
  {
   "cell_type": "code",
   "execution_count": null,
   "metadata": {},
   "outputs": [],
   "source": [
    "matches.loc[(matches[['LBH','LBD','LBA']].min(axis=1) == matches['LBH']) & (matches['home_win'] == 1), 'fav_profit'] = matches['LBH'] * 10\n",
    "matches.loc[(matches[['LBH','LBD','LBA']].min(axis=1) == matches['LBD']) & (matches['draw'] == 1), 'fav_profit'] = matches['LBD'] * 10\n",
    "matches.loc[(matches[['LBH','LBD','LBA']].min(axis=1) == matches['LBA']) & (matches['away_win'] == 1), 'fav_profit'] = matches['LBA'] * 10\n"
   ]
  },
  {
   "cell_type": "code",
   "execution_count": null,
   "metadata": {},
   "outputs": [],
   "source": [
    "matches"
   ]
  },
  {
   "cell_type": "markdown",
   "metadata": {},
   "source": [
    "### Profit betting on Underdog"
   ]
  },
  {
   "cell_type": "code",
   "execution_count": null,
   "metadata": {},
   "outputs": [],
   "source": [
    "matches['dog_profit'] = -10"
   ]
  },
  {
   "cell_type": "code",
   "execution_count": null,
   "metadata": {},
   "outputs": [],
   "source": [
    "matches.loc[(matches[['LBH','LBD','LBA']].max(axis=1) == matches['LBH']) & (matches['home_win'] == 1), 'dog_profit'] = matches['LBH'] * 10\n",
    "matches.loc[(matches[['LBH','LBD','LBA']].max(axis=1) == matches['LBD']) & (matches['draw'] == 1), 'dog_profit'] = matches['LBD'] * 10\n",
    "matches.loc[(matches[['LBH','LBD','LBA']].max(axis=1) == matches['LBA']) & (matches['away_win'] == 1), 'dog_profit'] = matches['LBA'] * 10"
   ]
  },
  {
   "cell_type": "code",
   "execution_count": null,
   "metadata": {},
   "outputs": [],
   "source": [
    "matches.head()"
   ]
  },
  {
   "cell_type": "markdown",
   "metadata": {},
   "source": [
    "### Profit from Home / Draw / Away"
   ]
  },
  {
   "cell_type": "code",
   "execution_count": null,
   "metadata": {},
   "outputs": [],
   "source": [
    "matches['home_profit'] = -10"
   ]
  },
  {
   "cell_type": "code",
   "execution_count": null,
   "metadata": {},
   "outputs": [],
   "source": [
    "matches.loc[(matches['home_win'] == 1), 'home_profit'] = matches['LBH'] * 10 "
   ]
  },
  {
   "cell_type": "code",
   "execution_count": null,
   "metadata": {},
   "outputs": [],
   "source": [
    "matches['draw_profit'] = -10"
   ]
  },
  {
   "cell_type": "code",
   "execution_count": null,
   "metadata": {},
   "outputs": [],
   "source": [
    "matches.loc[(matches['draw'] == 1), 'draw_profit'] = matches['LBD'] * 10 "
   ]
  },
  {
   "cell_type": "code",
   "execution_count": null,
   "metadata": {},
   "outputs": [],
   "source": [
    "matches['away_profit'] = -10"
   ]
  },
  {
   "cell_type": "code",
   "execution_count": null,
   "metadata": {},
   "outputs": [],
   "source": [
    "matches.loc[(matches['away_win'] == 1), 'away_profit'] = matches['LBA'] * 10 "
   ]
  },
  {
   "cell_type": "code",
   "execution_count": null,
   "metadata": {},
   "outputs": [],
   "source": [
    "matches.sort_values('date', inplace=True)"
   ]
  },
  {
   "cell_type": "code",
   "execution_count": null,
   "metadata": {},
   "outputs": [],
   "source": [
    "matches"
   ]
  },
  {
   "cell_type": "markdown",
   "metadata": {
    "heading_collapsed": true
   },
   "source": [
    "### Cumulative profit totals for each strategey"
   ]
  },
  {
   "cell_type": "code",
   "execution_count": null,
   "metadata": {
    "hidden": true
   },
   "outputs": [],
   "source": [
    "# define a function that returns the maximum profit from each strategy\n",
    "def c_profits(X):\n",
    "    fav_profit_cum = X['fav_profit'].sum()\n",
    "    dog_profit_cum = X['dog_profit'].sum()\n",
    "    home_profit_cum = X['home_profit'].sum()\n",
    "    draw_profit_cum = X['draw_profit'].sum()\n",
    "    away_profit_cum = X['away_profit'].sum()\n",
    "    return fav_profit_cum, dog_profit_cum, home_profit_cum,draw_profit_cum, away_profit_cum"
   ]
  },
  {
   "cell_type": "code",
   "execution_count": null,
   "metadata": {
    "hidden": true
   },
   "outputs": [],
   "source": [
    "matches['away_profit'].cumsum().tail(1)"
   ]
  },
  {
   "cell_type": "code",
   "execution_count": null,
   "metadata": {
    "hidden": true
   },
   "outputs": [],
   "source": [
    "c_profits(matches)"
   ]
  },
  {
   "cell_type": "markdown",
   "metadata": {
    "hidden": true
   },
   "source": [
    "Very surpising that the underdog approach was the most profitable method of betting in this season but this was the year that Leicester City won the league. "
   ]
  },
  {
   "cell_type": "markdown",
   "metadata": {
    "heading_collapsed": true
   },
   "source": [
    "### Reorganise methods into functions to apply to all the data"
   ]
  },
  {
   "cell_type": "code",
   "execution_count": null,
   "metadata": {
    "hidden": true
   },
   "outputs": [],
   "source": [
    "# psuedo code\n",
    "# import the data using get_data():\n",
    "# this returns a table with home_w, away_w and draw already added so need to add the boolean and conversion.\n",
    "# first function favourites method\n",
    "# second function is underdog \n",
    "# third is home team \n",
    "# fourth is draw\n",
    "# fifth allways bet away. "
   ]
  },
  {
   "cell_type": "code",
   "execution_count": null,
   "metadata": {
    "hidden": true
   },
   "outputs": [],
   "source": [
    "def pick_the_fav(X, season, bet=10):\n",
    "    \"\"\"\n",
    "    function returns a dataframe that includes the weekly profit/loss for season followng the favourites strategy\n",
    "    \"\"\"\n",
    "    # set defaults profit equal to bet size\n",
    "    X['fav_profit'] = -bet\n",
    "    # update profit column\n",
    "    X.loc[(matches[['LBH','LBD','LBA']].min(axis=1) == X['LBH']) & (X['home_w'] == 1), 'fav_profit'] = X['LBH'] * 10\n",
    "    X.loc[(matches[['LBH','LBD','LBA']].min(axis=1) == X['LBD']) & (X['draw'] == 1), 'fav_profit'] = X['LBD'] * 10\n",
    "    X.loc[(matches[['LBH','LBD','LBA']].min(axis=1) == X['LBA']) & (X['away_w'] == 1), 'fav_profit'] = X['LBA'] * 10\n",
    "    \n",
    "    return X"
   ]
  },
  {
   "cell_type": "code",
   "execution_count": null,
   "metadata": {
    "hidden": true
   },
   "outputs": [],
   "source": [
    "def pick_the_dog(X, season, bet=10):\n",
    "    \"\"\"\n",
    "    function returns a dataframe that includes the weekly profit/loss for season followng the underdog strategy\n",
    "    \"\"\"\n",
    "    # set defaults profit equal to bet size\n",
    "    X['dog_profit'] = -bet\n",
    "    # update profit column \n",
    "    X.loc[(matches[['LBH','LBD','LBA']].max(axis=1) == X['LBH']) & (X['home_w'] == 1), 'dog_profit'] = X['LBH'] * 10\n",
    "    X.loc[(matches[['LBH','LBD','LBA']].max(axis=1) == X['LBD']) & (X['draw'] == 1), 'dog_profit'] = X['LBD'] * 10\n",
    "    X.loc[(matches[['LBH','LBD','LBA']].max(axis=1) == X['LBA']) & (X['away_w'] == 1), 'dog_profit'] = X['LBA'] * 10\n",
    "    \n",
    "    return X"
   ]
  },
  {
   "cell_type": "code",
   "execution_count": null,
   "metadata": {
    "hidden": true
   },
   "outputs": [],
   "source": [
    "def always_home(X, season, bet=10):\n",
    "    \"\"\"\n",
    "    function returns a dataframe that includes the weekly profit/loss for season following the home team strategy\n",
    "    \"\"\"\n",
    "    X['home_profit'] = -bet\n",
    "    X.loc[(X['home_w'] == 1), 'home_profit'] = X['LBH'] * 10 \n",
    "    \n",
    "    return X"
   ]
  },
  {
   "cell_type": "code",
   "execution_count": null,
   "metadata": {
    "hidden": true
   },
   "outputs": [],
   "source": [
    "def always_draw(X, season, bet=10):\n",
    "    \"\"\"\n",
    "    function returns a dataframe that includes the weekly profit/loss for season following the home team strategy\n",
    "    \"\"\"\n",
    "    X['draw_profit'] = -bet\n",
    "    X.loc[(X['draw'] == 1), 'draw_profit'] = X['LBH'] * 10 \n",
    "    \n",
    "    return X"
   ]
  },
  {
   "cell_type": "code",
   "execution_count": null,
   "metadata": {
    "hidden": true
   },
   "outputs": [],
   "source": [
    "def always_away(X, season, bet=10):\n",
    "    \"\"\"\n",
    "    function returns a dataframe that includes the weekly profit/loss for season following the home team strategy\n",
    "    \"\"\"\n",
    "    X['away_profit'] = -bet\n",
    "    X.loc[(X['away_w'] == 1), 'away_profit'] = X['LBH'] * 10 \n",
    "    \n",
    "    return X"
   ]
  },
  {
   "cell_type": "markdown",
   "metadata": {
    "heading_collapsed": true
   },
   "source": [
    "### test functions"
   ]
  },
  {
   "cell_type": "code",
   "execution_count": null,
   "metadata": {
    "hidden": true
   },
   "outputs": [],
   "source": [
    "%load_ext autoreload\n",
    "%autoreload 2"
   ]
  },
  {
   "cell_type": "code",
   "execution_count": null,
   "metadata": {
    "hidden": true
   },
   "outputs": [],
   "source": [
    "from beatthebookies.data import get_betting_data, get_data"
   ]
  },
  {
   "cell_type": "code",
   "execution_count": null,
   "metadata": {
    "hidden": true
   },
   "outputs": [],
   "source": [
    "def get_betting_data(season='2015/2016', league=1729, local=False, optimize=False, **kwargs):\n",
    "    path = \"../data/\"\n",
    "    database = path + 'database.sqlite'\n",
    "    conn = sqlite3.connect(database)\n",
    "\n",
    "    df = pd.read_sql(\"\"\"SELECT m.id,\n",
    "                            m.season, m.stage, m.date,\n",
    "                            ht.team_long_name as home_team, at.team_long_name as away_team, m.home_team_goal,\n",
    "                            m.away_team_goal, m.LBH, m.LBD, m.LBA \n",
    "                            FROM Match as m\n",
    "                            LEFT JOIN Team AS ht on ht.team_api_id = m.home_team_api_id\n",
    "                            LEFT JOIN Team AS at on at.team_api_id = m.away_team_api_id\n",
    "                            WHERE league_id = :league AND season = :season\n",
    "                            ;\"\"\", conn, params={\"league\":league, \"season\":season})\n",
    "    # add win columns\n",
    "    df['home_w'] = 0\n",
    "    df['away_w'] = 0\n",
    "    df['draw'] = 0\n",
    "    # set winner\n",
    "    df.loc[df['home_team_goal'] > df['away_team_goal'], 'home_w'] = 1\n",
    "    df.loc[df['home_team_goal'] < df['away_team_goal'], 'away_w'] = 1\n",
    "    df.loc[df['home_team_goal'] == df['away_team_goal'], 'draw'] = 1\n",
    "    # sort into order\n",
    "    df.sort_values('date', inplace=True)\n",
    "\n",
    "    return df"
   ]
  },
  {
   "cell_type": "code",
   "execution_count": null,
   "metadata": {
    "hidden": true
   },
   "outputs": [],
   "source": [
    "betting = get_data()"
   ]
  },
  {
   "cell_type": "code",
   "execution_count": null,
   "metadata": {
    "hidden": true
   },
   "outputs": [],
   "source": [
    "betting.info()"
   ]
  },
  {
   "cell_type": "code",
   "execution_count": null,
   "metadata": {
    "hidden": true
   },
   "outputs": [],
   "source": [
    "def simple_betting_profits(df, bet=10):\n",
    "    \"\"\"\n",
    "    function returns the cumulative profits/loss from a season of following a consistent, simple betting strategy.\n",
    "    \"\"\"\n",
    "    # set defaults profit equal to bet size\n",
    "    # create new column for fav strategy\n",
    "    df['fav_profit'] = -bet\n",
    "    # update profit column\n",
    "    df.loc[(df[['LBH','LBD','LBA']].min(axis=1) == df['LBH']) & (df['home_w'] == 1), 'fav_profit'] = (df['LBH'] * bet) - bet\n",
    "    df.loc[(df[['LBH','LBD','LBA']].min(axis=1) == df['LBD']) & (df['draw'] == 1), 'fav_profit'] = (df['LBD'] * bet) - bet\n",
    "    df.loc[(df[['LBH','LBD','LBA']].min(axis=1) == df['LBA']) & (df['away_w'] == 1), 'fav_profit'] = (df['LBA'] * bet) - bet\n",
    "\n",
    "    # set defaults profit equal to bet size\n",
    "    # create new column for underdog strategy\n",
    "    df['dog_profit'] = -bet\n",
    "    # update profit column\n",
    "    df.loc[(df[['LBH','LBD','LBA']].max(axis=1) == df['LBH']) & (df['home_w'] == 1), 'dog_profit'] = (df['LBH'] * bet) - bet\n",
    "    df.loc[(df[['LBH','LBD','LBA']].max(axis=1) == df['LBD']) & (df['draw'] == 1), 'dog_profit'] = (df['LBD'] * bet) - bet\n",
    "    df.loc[(df[['LBH','LBD','LBA']].max(axis=1) == df['LBA']) & (df['away_w'] == 1), 'dog_profit'] = (df['LBA'] * bet) - bet\n",
    "\n",
    "    # create new column for home team method\n",
    "    df['home_profit'] = -bet\n",
    "    df.loc[(df['home_w'] == 1), 'home_profit'] = (df['LBH'] * bet) - bet\n",
    "    # create new column for draw tactic\n",
    "    df['draw_profit'] = -bet\n",
    "    df.loc[(df['draw'] == 1), 'draw_profit'] = (df['LBD'] * bet) - bet\n",
    "    # create new column for betting on the away team\n",
    "    df['away_profit'] = -bet\n",
    "    df.loc[(df['away_w'] == 1), 'away_profit'] = (df['LBA'] * bet) - bet\n",
    "\n",
    "    fav_profit_total = df['fav_profit'].sum()\n",
    "    dog_profit_total = df['dog_profit'].sum()\n",
    "    home_profit_total = df['home_profit'].sum()\n",
    "    draw_profit_total = df['draw_profit'].sum()\n",
    "    away_profit_total = df['away_profit'].sum()\n",
    "\n",
    "    return fav_profit_total, dog_profit_total, home_profit_total, draw_profit_total, away_profit_total\n"
   ]
  },
  {
   "cell_type": "code",
   "execution_count": null,
   "metadata": {
    "hidden": true,
    "scrolled": true
   },
   "outputs": [],
   "source": [
    "simple_betting_profits(betting)"
   ]
  },
  {
   "cell_type": "markdown",
   "metadata": {
    "heading_collapsed": true
   },
   "source": [
    "## Day Three - Ternery outputs and introducing additional Data"
   ]
  },
  {
   "cell_type": "code",
   "execution_count": null,
   "metadata": {
    "hidden": true
   },
   "outputs": [],
   "source": [
    "import pandas as pd\n",
    "import numpy as np \n",
    "import sqlite3"
   ]
  },
  {
   "cell_type": "code",
   "execution_count": null,
   "metadata": {
    "hidden": true
   },
   "outputs": [],
   "source": [
    "# create the file path (include two beatthebookies)\n",
    "path = '/Users/georgebrockman/code/georgebrockman/beatthebookies/beatthebookies/data/database.sqlite'\n",
    "# create the connection\n",
    "conn = sqlite3.connect(path)\n",
    "# create the cursor\n",
    "cursor = conn.cursor()"
   ]
  },
  {
   "cell_type": "code",
   "execution_count": null,
   "metadata": {
    "hidden": true
   },
   "outputs": [],
   "source": [
    "# use joining tables to keep the team names for better clarity\n",
    "matches = pd.read_sql(\"\"\"SELECT m.id, \n",
    "                        m.season, m.stage, m.date, \n",
    "                        ht.team_long_name as home_team, at.team_long_name as away_team, m.home_team_goal, \n",
    "                        m.away_team_goal, LBH, LBD, LBA, goal, shoton, shotoff, foulcommit, card, \n",
    "                        cross, corner, possession                                      \n",
    "                        FROM Match as m\n",
    "                        LEFT JOIN Team AS ht on ht.team_api_id = m.home_team_api_id\n",
    "                        LEFT JOIN Team AS at on at.team_api_id = m.away_team_api_id\n",
    "                        WHERE league_id = 1729 AND season = '2015/2016'\n",
    "                        ;\"\"\", conn)"
   ]
  },
  {
   "cell_type": "code",
   "execution_count": null,
   "metadata": {
    "hidden": true
   },
   "outputs": [],
   "source": [
    "matches.head()"
   ]
  },
  {
   "cell_type": "markdown",
   "metadata": {
    "hidden": true
   },
   "source": [
    "From here we have concluded not to use the Kaggle dataset for the match stats instead we will compile a complete data frame from 10 seperate csv files downloaded from https://www.football-data.co.uk"
   ]
  },
  {
   "cell_type": "code",
   "execution_count": null,
   "metadata": {
    "hidden": true
   },
   "outputs": [],
   "source": [
    "# load all csv files as dataframes\n",
    "df = pd.read_csv(\"/Users/georgebrockman/code/georgebrockman/Premier League CSV/premierleague2008.csv\")\n",
    "df2 = pd.read_csv(\"/Users/georgebrockman/code/georgebrockman/Premier League CSV/premierleague2009.csv\")\n",
    "df3 = pd.read_csv(\"/Users/georgebrockman/code/georgebrockman/Premier League CSV/premierleague2010.csv\")\n",
    "df4 = pd.read_csv(\"/Users/georgebrockman/code/georgebrockman/Premier League CSV/premierleague2011.csv\")\n",
    "df5 = pd.read_csv(\"/Users/georgebrockman/code/georgebrockman/Premier League CSV/premierleague2012.csv\")\n",
    "df6 = pd.read_csv(\"/Users/georgebrockman/code/georgebrockman/Premier League CSV/premierleague2013.csv\")\n",
    "df7 = pd.read_csv(\"/Users/georgebrockman/code/georgebrockman/Premier League CSV/premierleague2014.csv\")\n",
    "df8 = pd.read_csv(\"/Users/georgebrockman/code/georgebrockman/Premier League CSV/premierleague2015.csv\")\n",
    "df9 = pd.read_csv(\"/Users/georgebrockman/code/georgebrockman/Premier League CSV/premierleague2016.csv\")\n",
    "df10 = pd.read_csv(\"/Users/georgebrockman/code/georgebrockman/Premier League CSV/premierleague2017.csv\")\n",
    "df11 = pd.read_csv(\"/Users/georgebrockman/code/georgebrockman/Premier League CSV/premierleague2018.csv\")\n",
    "df12 = pd.read_csv(\"/Users/georgebrockman/code/georgebrockman/Premier League CSV/premierleague2019.csv\")"
   ]
  },
  {
   "cell_type": "code",
   "execution_count": null,
   "metadata": {
    "hidden": true
   },
   "outputs": [],
   "source": [
    "# issues combining all at once so combine individually\n",
    "combin_df = pd.concat([df,df2])\n",
    "combin_df.reset_index(drop=True, inplace=True)"
   ]
  },
  {
   "cell_type": "code",
   "execution_count": null,
   "metadata": {
    "hidden": true
   },
   "outputs": [],
   "source": [
    "# 2008-2010 dataset\n",
    "temp = pd.concat([combin_df, df3])\n",
    "temp.reset_index(drop=True, inplace=True)\n",
    "temp"
   ]
  },
  {
   "cell_type": "code",
   "execution_count": null,
   "metadata": {
    "hidden": true,
    "scrolled": true
   },
   "outputs": [],
   "source": [
    "# 2008-2011\n",
    "tmp = pd.concat([temp, df4])\n",
    "tmp.reset_index(drop=True, inplace=True)\n",
    "tmp"
   ]
  },
  {
   "cell_type": "code",
   "execution_count": null,
   "metadata": {
    "hidden": true
   },
   "outputs": [],
   "source": [
    "# create a merged csv for seasons 2008-2011 \n",
    "tmp.to_csv( \"combined_csv.csv\", index=True, encoding='utf-8-sig')"
   ]
  },
  {
   "cell_type": "code",
   "execution_count": null,
   "metadata": {
    "hidden": true
   },
   "outputs": [],
   "source": [
    "# 2012-2013 season merge\n",
    "tmp1 = pd.concat([df5, df6])\n",
    "tmp1.reset_index(drop=True, inplace=True)\n",
    "tmp1"
   ]
  },
  {
   "cell_type": "code",
   "execution_count": null,
   "metadata": {
    "hidden": true
   },
   "outputs": [],
   "source": [
    "# each csv has different values so need to drop columns that arn't in the kaggle dataset.\n",
    "len(df.columns.values)"
   ]
  },
  {
   "cell_type": "code",
   "execution_count": null,
   "metadata": {
    "hidden": true
   },
   "outputs": [],
   "source": [
    "df.head(20)"
   ]
  },
  {
   "cell_type": "code",
   "execution_count": null,
   "metadata": {
    "hidden": true
   },
   "outputs": [],
   "source": [
    "df2.columns.values # GBH GBD GBA - GAMEBOOKERS"
   ]
  },
  {
   "cell_type": "markdown",
   "metadata": {},
   "source": [
    "## Convert CSV Files to Relevant Columns and Combine"
   ]
  },
  {
   "cell_type": "code",
   "execution_count": null,
   "metadata": {},
   "outputs": [],
   "source": [
    "df = df[['Date', 'HomeTeam', 'AwayTeam', 'FTHG', 'FTAG', 'FTR',\n",
    "       'HTHG', 'HTAG', 'HTR', 'Referee', 'HS', 'AS', 'HST', 'AST', 'HF',\n",
    "       'AF', 'HC', 'AC', 'HY', 'AY', 'HR', 'AR', 'WHH', 'WHD', 'WHA']]"
   ]
  },
  {
   "cell_type": "code",
   "execution_count": null,
   "metadata": {},
   "outputs": [],
   "source": [
    "df2 = df2[['Date', 'HomeTeam', 'AwayTeam', 'FTHG', 'FTAG', 'FTR',\n",
    "       'HTHG', 'HTAG', 'HTR', 'Referee', 'HS', 'AS', 'HST', 'AST', 'HF',\n",
    "       'AF', 'HC', 'AC', 'HY', 'AY', 'HR', 'AR', 'WHH', 'WHD', 'WHA']]"
   ]
  },
  {
   "cell_type": "code",
   "execution_count": null,
   "metadata": {},
   "outputs": [],
   "source": [
    "df3 = df3[['Date', 'HomeTeam', 'AwayTeam', 'FTHG', 'FTAG', 'FTR',\n",
    "       'HTHG', 'HTAG', 'HTR', 'Referee', 'HS', 'AS', 'HST', 'AST', 'HF',\n",
    "       'AF', 'HC', 'AC', 'HY', 'AY', 'HR', 'AR', 'WHH', 'WHD', 'WHA']]"
   ]
  },
  {
   "cell_type": "code",
   "execution_count": null,
   "metadata": {},
   "outputs": [],
   "source": [
    "df4 = df4[['Date', 'HomeTeam', 'AwayTeam', 'FTHG', 'FTAG', 'FTR',\n",
    "       'HTHG', 'HTAG', 'HTR', 'Referee', 'HS', 'AS', 'HST', 'AST', 'HF',\n",
    "       'AF', 'HC', 'AC', 'HY', 'AY', 'HR', 'AR', 'WHH', 'WHD', 'WHA']]"
   ]
  },
  {
   "cell_type": "code",
   "execution_count": null,
   "metadata": {},
   "outputs": [],
   "source": [
    "df5 = df5[['Date', 'HomeTeam', 'AwayTeam', 'FTHG', 'FTAG', 'FTR',\n",
    "       'HTHG', 'HTAG', 'HTR', 'Referee', 'HS', 'AS', 'HST', 'AST', 'HF',\n",
    "       'AF', 'HC', 'AC', 'HY', 'AY', 'HR', 'AR', 'WHH', 'WHD', 'WHA']]"
   ]
  },
  {
   "cell_type": "code",
   "execution_count": null,
   "metadata": {},
   "outputs": [],
   "source": [
    "df6 = df6[['Date', 'HomeTeam', 'AwayTeam', 'FTHG', 'FTAG', 'FTR',\n",
    "       'HTHG', 'HTAG', 'HTR', 'Referee', 'HS', 'AS', 'HST', 'AST', 'HF',\n",
    "       'AF', 'HC', 'AC', 'HY', 'AY', 'HR', 'AR', 'WHH', 'WHD', 'WHA']]"
   ]
  },
  {
   "cell_type": "code",
   "execution_count": null,
   "metadata": {},
   "outputs": [],
   "source": [
    "df7 = df7[['Date', 'HomeTeam', 'AwayTeam', 'FTHG', 'FTAG', 'FTR',\n",
    "       'HTHG', 'HTAG', 'HTR', 'Referee', 'HS', 'AS', 'HST', 'AST', 'HF',\n",
    "       'AF', 'HC', 'AC', 'HY', 'AY', 'HR', 'AR', 'WHH', 'WHD', 'WHA']]"
   ]
  },
  {
   "cell_type": "code",
   "execution_count": null,
   "metadata": {},
   "outputs": [],
   "source": [
    "df8 = df8[['Date', 'HomeTeam', 'AwayTeam', 'FTHG', 'FTAG', 'FTR',\n",
    "       'HTHG', 'HTAG', 'HTR', 'Referee', 'HS', 'AS', 'HST', 'AST', 'HF',\n",
    "       'AF', 'HC', 'AC', 'HY', 'AY', 'HR', 'AR', 'WHH', 'WHD', 'WHA']]"
   ]
  },
  {
   "cell_type": "code",
   "execution_count": null,
   "metadata": {},
   "outputs": [],
   "source": [
    "df9 = df9[['Date', 'HomeTeam', 'AwayTeam', 'FTHG', 'FTAG', 'FTR',\n",
    "       'HTHG', 'HTAG', 'HTR', 'Referee', 'HS', 'AS', 'HST', 'AST', 'HF',\n",
    "       'AF', 'HC', 'AC', 'HY', 'AY', 'HR', 'AR', 'WHH', 'WHD', 'WHA']]"
   ]
  },
  {
   "cell_type": "code",
   "execution_count": null,
   "metadata": {},
   "outputs": [],
   "source": [
    "df10 = df10[['Date', 'HomeTeam', 'AwayTeam', 'FTHG', 'FTAG', 'FTR',\n",
    "       'HTHG', 'HTAG', 'HTR', 'Referee', 'HS', 'AS', 'HST', 'AST', 'HF',\n",
    "       'AF', 'HC', 'AC', 'HY', 'AY', 'HR', 'AR', 'WHH', 'WHD', 'WHA']]"
   ]
  },
  {
   "cell_type": "code",
   "execution_count": null,
   "metadata": {},
   "outputs": [],
   "source": [
    "df11 = df11[['Date', 'HomeTeam', 'AwayTeam', 'FTHG', 'FTAG', 'FTR',\n",
    "       'HTHG', 'HTAG', 'HTR', 'Referee', 'HS', 'AS', 'HST', 'AST', 'HF',\n",
    "       'AF', 'HC', 'AC', 'HY', 'AY', 'HR', 'AR','WHH', 'WHD', 'WHA']]"
   ]
  },
  {
   "cell_type": "code",
   "execution_count": null,
   "metadata": {},
   "outputs": [],
   "source": [
    "df12 = df12[['Date', 'HomeTeam', 'AwayTeam', 'FTHG', 'FTAG', 'FTR',\n",
    "       'HTHG', 'HTAG', 'HTR', 'Referee', 'HS', 'AS', 'HST', 'AST', 'HF',\n",
    "       'AF', 'HC', 'AC', 'HY', 'AY', 'HR', 'AR', 'WHH', 'WHD', 'WHA']] "
   ]
  },
  {
   "cell_type": "code",
   "execution_count": null,
   "metadata": {},
   "outputs": [],
   "source": [
    "match_stats = pd.concat([df,df2,df3,df4,df5,df6,df7,df8,df9,df10,df11,df12])\n",
    "match_stats.reset_index(drop=True, inplace=True)\n",
    "match_stats"
   ]
  },
  {
   "cell_type": "code",
   "execution_count": null,
   "metadata": {},
   "outputs": [],
   "source": [
    "# create the data frame\n",
    "match_stats.to_csv( \"premierleaguematches.csv\", index=True, encoding='utf-8-sig')"
   ]
  },
  {
   "cell_type": "markdown",
   "metadata": {},
   "source": [
    "### Add Seasons column to premierleaguematches.csv file "
   ]
  },
  {
   "cell_type": "code",
   "execution_count": 24,
   "metadata": {},
   "outputs": [],
   "source": [
    "# import the csv file \n",
    "df = pd.read_csv('/Users/georgebrockman/code/georgebrockman/beatthebookies/beatthebookies/notebooks/premierleaguematches.csv')"
   ]
  },
  {
   "cell_type": "code",
   "execution_count": 27,
   "metadata": {},
   "outputs": [],
   "source": [
    "# rename the unamed column to season\n",
    "df.rename({'Unnamed: 0': 'Season'}, axis=1, inplace=True)"
   ]
  },
  {
   "cell_type": "code",
   "execution_count": 35,
   "metadata": {},
   "outputs": [],
   "source": [
    "df.loc[0:379, 'Season'] = '2008/2009'"
   ]
  },
  {
   "cell_type": "code",
   "execution_count": 38,
   "metadata": {},
   "outputs": [],
   "source": [
    "df.loc[380:759, 'Season'] = '2009/2010'"
   ]
  },
  {
   "cell_type": "code",
   "execution_count": 40,
   "metadata": {},
   "outputs": [],
   "source": [
    "df.loc[760:1139, 'Season'] = '2010/2011'"
   ]
  },
  {
   "cell_type": "code",
   "execution_count": 45,
   "metadata": {},
   "outputs": [],
   "source": [
    "df.loc[1140:1519, 'Season'] = '2011/2012'"
   ]
  },
  {
   "cell_type": "code",
   "execution_count": 48,
   "metadata": {},
   "outputs": [],
   "source": [
    "df.loc[1520:1899, 'Season'] = '2012/2013'"
   ]
  },
  {
   "cell_type": "code",
   "execution_count": 49,
   "metadata": {},
   "outputs": [],
   "source": [
    "df.loc[1900:2279, 'Season'] = '2013/2014'"
   ]
  },
  {
   "cell_type": "code",
   "execution_count": 50,
   "metadata": {},
   "outputs": [],
   "source": [
    "df.loc[2280:2659, 'Season'] = '2014/2015'"
   ]
  },
  {
   "cell_type": "code",
   "execution_count": 51,
   "metadata": {},
   "outputs": [],
   "source": [
    "df.loc[2660:3039, 'Season'] = '2015/2016'"
   ]
  },
  {
   "cell_type": "code",
   "execution_count": 52,
   "metadata": {},
   "outputs": [],
   "source": [
    "df.loc[3040:3419, 'Season'] = '2016/2017'"
   ]
  },
  {
   "cell_type": "code",
   "execution_count": 53,
   "metadata": {},
   "outputs": [],
   "source": [
    "df.loc[3420:3799, 'Season'] = '2017/2018'"
   ]
  },
  {
   "cell_type": "code",
   "execution_count": 54,
   "metadata": {},
   "outputs": [],
   "source": [
    "df.loc[3800:4179, 'Season'] = '2018/2019'"
   ]
  },
  {
   "cell_type": "code",
   "execution_count": 57,
   "metadata": {},
   "outputs": [],
   "source": [
    "df.loc[4180:4560, 'Season'] = '2019/2020'"
   ]
  },
  {
   "cell_type": "code",
   "execution_count": 62,
   "metadata": {},
   "outputs": [
    {
     "data": {
      "text/plain": [
       "array(['2008/2009', '2009/2010', '2010/2011', '2011/2012', '2012/2013',\n",
       "       '2013/2014', '2014/2015', '2015/2016', '2016/2017', '2017/2018',\n",
       "       '2018/2019', '2019/2020'], dtype=object)"
      ]
     },
     "execution_count": 62,
     "metadata": {},
     "output_type": "execute_result"
    }
   ],
   "source": [
    "# check its worked\n",
    "df.Season.unique()"
   ]
  },
  {
   "cell_type": "code",
   "execution_count": 63,
   "metadata": {},
   "outputs": [],
   "source": [
    "df.to_csv( \"premierleague.csv\", index=True, encoding='utf-8-sig')"
   ]
  },
  {
   "cell_type": "markdown",
   "metadata": {},
   "source": [
    "## Day Four - Scrapping Fifa Stats for 2008, 2012, 2016-2019"
   ]
  },
  {
   "cell_type": "markdown",
   "metadata": {},
   "source": [
    "Aim of today is to collect the fifa stats from the kaggle dataset from the missing seasons, add them to the newly created match stats csv file, ready for merging with our kaggle dataset that our model has already been working on.\n",
    "\n",
    "exploring different scraping options but failure to get anywhere may result in an attempt to use Beautiful Soup Library as a last resort..."
   ]
  },
  {
   "cell_type": "code",
   "execution_count": 10,
   "metadata": {},
   "outputs": [],
   "source": [
    "import pandas as pd \n",
    "import numpy as np"
   ]
  },
  {
   "cell_type": "code",
   "execution_count": 1,
   "metadata": {},
   "outputs": [],
   "source": [
    "from beatthebookies.data import get_data, get_rankings"
   ]
  },
  {
   "cell_type": "code",
   "execution_count": 11,
   "metadata": {},
   "outputs": [
    {
     "name": "stdout",
     "output_type": "stream",
     "text": [
      "get_data 10.44\n"
     ]
    }
   ],
   "source": [
    "data = get_data()"
   ]
  },
  {
   "cell_type": "code",
   "execution_count": 42,
   "metadata": {},
   "outputs": [],
   "source": [
    "pd.options.display.max_columns = None\n",
    "pd.options.display.max_rows = None"
   ]
  },
  {
   "cell_type": "code",
   "execution_count": 13,
   "metadata": {},
   "outputs": [
    {
     "data": {
      "text/html": [
       "<div>\n",
       "<style scoped>\n",
       "    .dataframe tbody tr th:only-of-type {\n",
       "        vertical-align: middle;\n",
       "    }\n",
       "\n",
       "    .dataframe tbody tr th {\n",
       "        vertical-align: top;\n",
       "    }\n",
       "\n",
       "    .dataframe thead th {\n",
       "        text-align: right;\n",
       "    }\n",
       "</style>\n",
       "<table border=\"1\" class=\"dataframe\">\n",
       "  <thead>\n",
       "    <tr style=\"text-align: right;\">\n",
       "      <th></th>\n",
       "      <th>id</th>\n",
       "      <th>season</th>\n",
       "      <th>stage</th>\n",
       "      <th>date</th>\n",
       "      <th>home_team</th>\n",
       "      <th>away_team</th>\n",
       "      <th>home_team_goal</th>\n",
       "      <th>away_team_goal</th>\n",
       "      <th>home_w</th>\n",
       "      <th>away_w</th>\n",
       "      <th>draw</th>\n",
       "      <th>home_t_home_goals</th>\n",
       "      <th>home_t_home_goals_against</th>\n",
       "      <th>home_t_home_wins</th>\n",
       "      <th>home_t_home_losses</th>\n",
       "      <th>home_t_home_draws</th>\n",
       "      <th>away_t_away_goals</th>\n",
       "      <th>away_t_away_goals_against</th>\n",
       "      <th>away_t_away_wins</th>\n",
       "      <th>away_t_away_losses</th>\n",
       "      <th>away_t_away_draws</th>\n",
       "      <th>home_t_away_goals</th>\n",
       "      <th>home_t_away_goals_against</th>\n",
       "      <th>home_t_away_wins</th>\n",
       "      <th>home_t_away_losses</th>\n",
       "      <th>home_t_away_draws</th>\n",
       "      <th>away_t_home_goals</th>\n",
       "      <th>away_t_home_goals_against</th>\n",
       "      <th>away_t_home_wins</th>\n",
       "      <th>away_t_home_losses</th>\n",
       "      <th>away_t_home_draws</th>\n",
       "      <th>bups_x</th>\n",
       "      <th>bupp_x</th>\n",
       "      <th>ccp_x</th>\n",
       "      <th>ccc_x</th>\n",
       "      <th>ccs_x</th>\n",
       "      <th>dp_x</th>\n",
       "      <th>da_x</th>\n",
       "      <th>dtw_x</th>\n",
       "      <th>bups_y</th>\n",
       "      <th>bupp_y</th>\n",
       "      <th>ccp_y</th>\n",
       "      <th>ccc_y</th>\n",
       "      <th>ccs_y</th>\n",
       "      <th>dp_y</th>\n",
       "      <th>da_y</th>\n",
       "      <th>dtw_y</th>\n",
       "    </tr>\n",
       "  </thead>\n",
       "  <tbody>\n",
       "    <tr>\n",
       "      <th>0</th>\n",
       "      <td>4390</td>\n",
       "      <td>2015/2016</td>\n",
       "      <td>1</td>\n",
       "      <td>2015-08-08 00:00:00</td>\n",
       "      <td>Bournemouth</td>\n",
       "      <td>Aston Villa</td>\n",
       "      <td>0</td>\n",
       "      <td>1</td>\n",
       "      <td>0</td>\n",
       "      <td>1</td>\n",
       "      <td>0</td>\n",
       "      <td>0</td>\n",
       "      <td>0</td>\n",
       "      <td>0</td>\n",
       "      <td>0</td>\n",
       "      <td>0</td>\n",
       "      <td>0</td>\n",
       "      <td>0</td>\n",
       "      <td>0</td>\n",
       "      <td>0</td>\n",
       "      <td>0</td>\n",
       "      <td>0</td>\n",
       "      <td>0</td>\n",
       "      <td>0</td>\n",
       "      <td>0</td>\n",
       "      <td>0</td>\n",
       "      <td>0</td>\n",
       "      <td>0</td>\n",
       "      <td>0</td>\n",
       "      <td>0</td>\n",
       "      <td>0</td>\n",
       "      <td>47</td>\n",
       "      <td>47</td>\n",
       "      <td>49</td>\n",
       "      <td>45</td>\n",
       "      <td>47</td>\n",
       "      <td>48</td>\n",
       "      <td>50</td>\n",
       "      <td>62</td>\n",
       "      <td>63</td>\n",
       "      <td>54</td>\n",
       "      <td>60</td>\n",
       "      <td>48</td>\n",
       "      <td>38</td>\n",
       "      <td>35</td>\n",
       "      <td>44</td>\n",
       "      <td>54</td>\n",
       "    </tr>\n",
       "    <tr>\n",
       "      <th>1</th>\n",
       "      <td>4391</td>\n",
       "      <td>2015/2016</td>\n",
       "      <td>1</td>\n",
       "      <td>2015-08-08 00:00:00</td>\n",
       "      <td>Chelsea</td>\n",
       "      <td>Swansea City</td>\n",
       "      <td>2</td>\n",
       "      <td>2</td>\n",
       "      <td>0</td>\n",
       "      <td>0</td>\n",
       "      <td>1</td>\n",
       "      <td>0</td>\n",
       "      <td>0</td>\n",
       "      <td>0</td>\n",
       "      <td>0</td>\n",
       "      <td>0</td>\n",
       "      <td>0</td>\n",
       "      <td>0</td>\n",
       "      <td>0</td>\n",
       "      <td>0</td>\n",
       "      <td>0</td>\n",
       "      <td>0</td>\n",
       "      <td>0</td>\n",
       "      <td>0</td>\n",
       "      <td>0</td>\n",
       "      <td>0</td>\n",
       "      <td>0</td>\n",
       "      <td>0</td>\n",
       "      <td>0</td>\n",
       "      <td>0</td>\n",
       "      <td>0</td>\n",
       "      <td>67</td>\n",
       "      <td>36</td>\n",
       "      <td>41</td>\n",
       "      <td>34</td>\n",
       "      <td>44</td>\n",
       "      <td>39</td>\n",
       "      <td>41</td>\n",
       "      <td>46</td>\n",
       "      <td>45</td>\n",
       "      <td>42</td>\n",
       "      <td>34</td>\n",
       "      <td>36</td>\n",
       "      <td>55</td>\n",
       "      <td>31</td>\n",
       "      <td>47</td>\n",
       "      <td>42</td>\n",
       "    </tr>\n",
       "    <tr>\n",
       "      <th>2</th>\n",
       "      <td>4392</td>\n",
       "      <td>2015/2016</td>\n",
       "      <td>1</td>\n",
       "      <td>2015-08-08 00:00:00</td>\n",
       "      <td>Everton</td>\n",
       "      <td>Watford</td>\n",
       "      <td>2</td>\n",
       "      <td>2</td>\n",
       "      <td>0</td>\n",
       "      <td>0</td>\n",
       "      <td>1</td>\n",
       "      <td>0</td>\n",
       "      <td>0</td>\n",
       "      <td>0</td>\n",
       "      <td>0</td>\n",
       "      <td>0</td>\n",
       "      <td>0</td>\n",
       "      <td>0</td>\n",
       "      <td>0</td>\n",
       "      <td>0</td>\n",
       "      <td>0</td>\n",
       "      <td>0</td>\n",
       "      <td>0</td>\n",
       "      <td>0</td>\n",
       "      <td>0</td>\n",
       "      <td>0</td>\n",
       "      <td>0</td>\n",
       "      <td>0</td>\n",
       "      <td>0</td>\n",
       "      <td>0</td>\n",
       "      <td>0</td>\n",
       "      <td>43</td>\n",
       "      <td>40</td>\n",
       "      <td>39</td>\n",
       "      <td>33</td>\n",
       "      <td>63</td>\n",
       "      <td>52</td>\n",
       "      <td>58</td>\n",
       "      <td>59</td>\n",
       "      <td>61</td>\n",
       "      <td>52</td>\n",
       "      <td>54</td>\n",
       "      <td>42</td>\n",
       "      <td>45</td>\n",
       "      <td>38</td>\n",
       "      <td>52</td>\n",
       "      <td>45</td>\n",
       "    </tr>\n",
       "    <tr>\n",
       "      <th>3</th>\n",
       "      <td>4393</td>\n",
       "      <td>2015/2016</td>\n",
       "      <td>1</td>\n",
       "      <td>2015-08-08 00:00:00</td>\n",
       "      <td>Leicester City</td>\n",
       "      <td>Sunderland</td>\n",
       "      <td>4</td>\n",
       "      <td>2</td>\n",
       "      <td>1</td>\n",
       "      <td>0</td>\n",
       "      <td>0</td>\n",
       "      <td>0</td>\n",
       "      <td>0</td>\n",
       "      <td>0</td>\n",
       "      <td>0</td>\n",
       "      <td>0</td>\n",
       "      <td>0</td>\n",
       "      <td>0</td>\n",
       "      <td>0</td>\n",
       "      <td>0</td>\n",
       "      <td>0</td>\n",
       "      <td>0</td>\n",
       "      <td>0</td>\n",
       "      <td>0</td>\n",
       "      <td>0</td>\n",
       "      <td>0</td>\n",
       "      <td>0</td>\n",
       "      <td>0</td>\n",
       "      <td>0</td>\n",
       "      <td>0</td>\n",
       "      <td>0</td>\n",
       "      <td>63</td>\n",
       "      <td>60</td>\n",
       "      <td>47</td>\n",
       "      <td>64</td>\n",
       "      <td>46</td>\n",
       "      <td>58</td>\n",
       "      <td>65</td>\n",
       "      <td>55</td>\n",
       "      <td>43</td>\n",
       "      <td>51</td>\n",
       "      <td>59</td>\n",
       "      <td>50</td>\n",
       "      <td>55</td>\n",
       "      <td>47</td>\n",
       "      <td>45</td>\n",
       "      <td>49</td>\n",
       "    </tr>\n",
       "    <tr>\n",
       "      <th>4</th>\n",
       "      <td>4394</td>\n",
       "      <td>2015/2016</td>\n",
       "      <td>1</td>\n",
       "      <td>2015-08-08 00:00:00</td>\n",
       "      <td>Manchester United</td>\n",
       "      <td>Tottenham Hotspur</td>\n",
       "      <td>1</td>\n",
       "      <td>0</td>\n",
       "      <td>1</td>\n",
       "      <td>0</td>\n",
       "      <td>0</td>\n",
       "      <td>0</td>\n",
       "      <td>0</td>\n",
       "      <td>0</td>\n",
       "      <td>0</td>\n",
       "      <td>0</td>\n",
       "      <td>0</td>\n",
       "      <td>0</td>\n",
       "      <td>0</td>\n",
       "      <td>0</td>\n",
       "      <td>0</td>\n",
       "      <td>0</td>\n",
       "      <td>0</td>\n",
       "      <td>0</td>\n",
       "      <td>0</td>\n",
       "      <td>0</td>\n",
       "      <td>0</td>\n",
       "      <td>0</td>\n",
       "      <td>0</td>\n",
       "      <td>0</td>\n",
       "      <td>0</td>\n",
       "      <td>38</td>\n",
       "      <td>44</td>\n",
       "      <td>49</td>\n",
       "      <td>44</td>\n",
       "      <td>40</td>\n",
       "      <td>54</td>\n",
       "      <td>53</td>\n",
       "      <td>56</td>\n",
       "      <td>47</td>\n",
       "      <td>40</td>\n",
       "      <td>41</td>\n",
       "      <td>41</td>\n",
       "      <td>63</td>\n",
       "      <td>63</td>\n",
       "      <td>54</td>\n",
       "      <td>56</td>\n",
       "    </tr>\n",
       "  </tbody>\n",
       "</table>\n",
       "</div>"
      ],
      "text/plain": [
       "     id     season  stage                 date          home_team  \\\n",
       "0  4390  2015/2016      1  2015-08-08 00:00:00        Bournemouth   \n",
       "1  4391  2015/2016      1  2015-08-08 00:00:00            Chelsea   \n",
       "2  4392  2015/2016      1  2015-08-08 00:00:00            Everton   \n",
       "3  4393  2015/2016      1  2015-08-08 00:00:00     Leicester City   \n",
       "4  4394  2015/2016      1  2015-08-08 00:00:00  Manchester United   \n",
       "\n",
       "           away_team  home_team_goal  away_team_goal  home_w  away_w  draw  \\\n",
       "0        Aston Villa               0               1       0       1     0   \n",
       "1       Swansea City               2               2       0       0     1   \n",
       "2            Watford               2               2       0       0     1   \n",
       "3         Sunderland               4               2       1       0     0   \n",
       "4  Tottenham Hotspur               1               0       1       0     0   \n",
       "\n",
       "   home_t_home_goals  home_t_home_goals_against  home_t_home_wins  \\\n",
       "0                  0                          0                 0   \n",
       "1                  0                          0                 0   \n",
       "2                  0                          0                 0   \n",
       "3                  0                          0                 0   \n",
       "4                  0                          0                 0   \n",
       "\n",
       "   home_t_home_losses  home_t_home_draws  away_t_away_goals  \\\n",
       "0                   0                  0                  0   \n",
       "1                   0                  0                  0   \n",
       "2                   0                  0                  0   \n",
       "3                   0                  0                  0   \n",
       "4                   0                  0                  0   \n",
       "\n",
       "   away_t_away_goals_against  away_t_away_wins  away_t_away_losses  \\\n",
       "0                          0                 0                   0   \n",
       "1                          0                 0                   0   \n",
       "2                          0                 0                   0   \n",
       "3                          0                 0                   0   \n",
       "4                          0                 0                   0   \n",
       "\n",
       "   away_t_away_draws  home_t_away_goals  home_t_away_goals_against  \\\n",
       "0                  0                  0                          0   \n",
       "1                  0                  0                          0   \n",
       "2                  0                  0                          0   \n",
       "3                  0                  0                          0   \n",
       "4                  0                  0                          0   \n",
       "\n",
       "   home_t_away_wins  home_t_away_losses  home_t_away_draws  away_t_home_goals  \\\n",
       "0                 0                   0                  0                  0   \n",
       "1                 0                   0                  0                  0   \n",
       "2                 0                   0                  0                  0   \n",
       "3                 0                   0                  0                  0   \n",
       "4                 0                   0                  0                  0   \n",
       "\n",
       "   away_t_home_goals_against  away_t_home_wins  away_t_home_losses  \\\n",
       "0                          0                 0                   0   \n",
       "1                          0                 0                   0   \n",
       "2                          0                 0                   0   \n",
       "3                          0                 0                   0   \n",
       "4                          0                 0                   0   \n",
       "\n",
       "   away_t_home_draws  bups_x  bupp_x  ccp_x  ccc_x  ccs_x  dp_x  da_x  dtw_x  \\\n",
       "0                  0      47      47     49     45     47    48    50     62   \n",
       "1                  0      67      36     41     34     44    39    41     46   \n",
       "2                  0      43      40     39     33     63    52    58     59   \n",
       "3                  0      63      60     47     64     46    58    65     55   \n",
       "4                  0      38      44     49     44     40    54    53     56   \n",
       "\n",
       "   bups_y  bupp_y  ccp_y  ccc_y  ccs_y  dp_y  da_y  dtw_y  \n",
       "0      63      54     60     48     38    35    44     54  \n",
       "1      45      42     34     36     55    31    47     42  \n",
       "2      61      52     54     42     45    38    52     45  \n",
       "3      43      51     59     50     55    47    45     49  \n",
       "4      47      40     41     41     63    63    54     56  "
      ]
     },
     "execution_count": 13,
     "metadata": {},
     "output_type": "execute_result"
    }
   ],
   "source": [
    "data.head()"
   ]
  },
  {
   "cell_type": "markdown",
   "metadata": {},
   "source": [
    "Chris took over the webscrapping and smashed it!"
   ]
  },
  {
   "cell_type": "code",
   "execution_count": null,
   "metadata": {},
   "outputs": [],
   "source": []
  }
 ],
 "metadata": {
  "kernelspec": {
   "display_name": "Python 3",
   "language": "python",
   "name": "python3"
  },
  "language_info": {
   "codemirror_mode": {
    "name": "ipython",
    "version": 3
   },
   "file_extension": ".py",
   "mimetype": "text/x-python",
   "name": "python",
   "nbconvert_exporter": "python",
   "pygments_lexer": "ipython3",
   "version": "3.7.7"
  },
  "toc": {
   "base_numbering": 1,
   "nav_menu": {},
   "number_sections": true,
   "sideBar": true,
   "skip_h1_title": false,
   "title_cell": "Table of Contents",
   "title_sidebar": "Contents",
   "toc_cell": false,
   "toc_position": {},
   "toc_section_display": true,
   "toc_window_display": false
  },
  "varInspector": {
   "cols": {
    "lenName": 16,
    "lenType": 16,
    "lenVar": 40
   },
   "kernels_config": {
    "python": {
     "delete_cmd_postfix": "",
     "delete_cmd_prefix": "del ",
     "library": "var_list.py",
     "varRefreshCmd": "print(var_dic_list())"
    },
    "r": {
     "delete_cmd_postfix": ") ",
     "delete_cmd_prefix": "rm(",
     "library": "var_list.r",
     "varRefreshCmd": "cat(var_dic_list()) "
    }
   },
   "types_to_exclude": [
    "module",
    "function",
    "builtin_function_or_method",
    "instance",
    "_Feature"
   ],
   "window_display": false
  }
 },
 "nbformat": 4,
 "nbformat_minor": 4
}
