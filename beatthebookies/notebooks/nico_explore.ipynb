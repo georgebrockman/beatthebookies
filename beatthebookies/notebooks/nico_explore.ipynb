{
 "cells": [
  {
   "cell_type": "markdown",
   "metadata": {},
   "source": [
    "# Data Exploration"
   ]
  },
  {
   "cell_type": "code",
   "execution_count": 28,
   "metadata": {},
   "outputs": [],
   "source": [
    "import csv\n",
    "\n",
    "reader = csv.reader(open(\"/Applications/Career/Lewagon/project/E0-2.csv\"))\n",
    "reader1 = csv.reader(open(\"/Applications/Career/Lewagon/project/E0.csv\"))\n",
    "f = open(\"combined.csv\", \"w\")\n",
    "writer = csv.writer(f)\n",
    "\n",
    "for row in reader:\n",
    "    writer.writerow(row)\n",
    "for row in reader1:\n",
    "    writer.writerow(row)\n",
    "f.close()"
   ]
  },
  {
   "cell_type": "code",
   "execution_count": null,
   "metadata": {},
   "outputs": [],
   "source": []
  },
  {
   "cell_type": "code",
   "execution_count": null,
   "metadata": {},
   "outputs": [],
   "source": []
  },
  {
   "cell_type": "code",
   "execution_count": null,
   "metadata": {},
   "outputs": [],
   "source": []
  },
  {
   "cell_type": "code",
   "execution_count": null,
   "metadata": {},
   "outputs": [],
   "source": []
  },
  {
   "cell_type": "code",
   "execution_count": null,
   "metadata": {},
   "outputs": [],
   "source": []
  },
  {
   "cell_type": "code",
   "execution_count": null,
   "metadata": {},
   "outputs": [],
   "source": []
  },
  {
   "cell_type": "code",
   "execution_count": null,
   "metadata": {},
   "outputs": [],
   "source": []
  },
  {
   "cell_type": "code",
   "execution_count": null,
   "metadata": {},
   "outputs": [],
   "source": []
  },
  {
   "cell_type": "code",
   "execution_count": null,
   "metadata": {},
   "outputs": [],
   "source": []
  },
  {
   "cell_type": "code",
   "execution_count": null,
   "metadata": {},
   "outputs": [],
   "source": []
  },
  {
   "cell_type": "code",
   "execution_count": null,
   "metadata": {},
   "outputs": [],
   "source": []
  },
  {
   "cell_type": "code",
   "execution_count": null,
   "metadata": {
    "ExecuteTime": {
     "end_time": "2020-08-25T12:15:29.910518Z",
     "start_time": "2020-08-25T12:15:28.898012Z"
    },
    "scrolled": true
   },
   "outputs": [],
   "source": [
    "import sqlite3\n",
    "import pandas as pd\n",
    "\n",
    "path = \"../data/\"  #Insert path here\n",
    "database = path + \"database.sqlite\"\n",
    "conn = sqlite3.connect(database)\n",
    "\n",
    "cursor = conn.cursor()\n",
    "print(cursor.fetchall())\n",
    "\n",
    "matches_df = pd.read_sql(\n",
    "    '''\n",
    "    SELECT id,league_id,season,stage,home_team_api_id,away_team_api_id,goal,shoton,shotoff,foulcommit,card,cross,corner,possession\n",
    "    FROM Match m\n",
    "    WHERE league_id == 1729\n",
    "    AND season == '2015/2016'\n",
    "    ORDER BY stage ASC\n",
    "    ''', conn)\n",
    "\n",
    "matches_df.head(100)"
   ]
  },
  {
   "cell_type": "code",
   "execution_count": null,
   "metadata": {},
   "outputs": [],
   "source": [
    "#matches_df['home_goals']= matches_df.groupby('home_team_api_id')['home_team_goal'].cumsum().fillna(0)"
   ]
  },
  {
   "cell_type": "code",
   "execution_count": null,
   "metadata": {},
   "outputs": [],
   "source": [
    "#matches_df['away_goals']= matches_df.groupby('home_team_api_id')['away_team_goal'].cumsum().fillna(0)"
   ]
  },
  {
   "cell_type": "code",
   "execution_count": null,
   "metadata": {},
   "outputs": [],
   "source": [
    "#matches_df.head(3)"
   ]
  },
  {
   "cell_type": "code",
   "execution_count": null,
   "metadata": {},
   "outputs": [],
   "source": [
    "matches_df['shoton'][0]"
   ]
  },
  {
   "cell_type": "code",
   "execution_count": null,
   "metadata": {},
   "outputs": [],
   "source": [
    "from xml.etree.ElementTree import XML, fromstring\n",
    "myxml = fromstring(matches_df['shoton'][0])"
   ]
  },
  {
   "cell_type": "markdown",
   "metadata": {},
   "source": [
    "### Variables to consider"
   ]
  },
  {
   "cell_type": "markdown",
   "metadata": {},
   "source": [
    "1. Home Team Total Wins\t\n",
    "2. Home Team Home wins\t\n",
    "3. Home Team Total Losses\t\n",
    "4. Home Team Home losses\t\n",
    "5. Away Team Rank\t\n",
    "6. Away Team Total Wins\t\n",
    "7. Away Team Away wins\t\n",
    "8. Away Team Total Losses\t\n",
    "9. Away Team Away Losses\t\n",
    "10. Home Team Total Goals\t\n",
    "11. Home Team Home Goals\t\n",
    "12. Home Team Total Goals allowed\t\n",
    "13. Home Team Home Goals Allowed\t\n",
    "14. Away Team Total Goals\t\n",
    "15. Away Team Away Goals\t\n",
    "16. Away Team Total Goals Allowed\t\n",
    "17. Away Team Away Goals Allowed\t\n",
    "18. Home Team Win y/n"
   ]
  },
  {
   "cell_type": "markdown",
   "metadata": {},
   "source": [
    "### home / draw / away"
   ]
  },
  {
   "cell_type": "code",
   "execution_count": null,
   "metadata": {
    "ExecuteTime": {
     "end_time": "2020-08-25T12:15:35.397346Z",
     "start_time": "2020-08-25T12:15:35.385740Z"
    }
   },
   "outputs": [],
   "source": [
    "matches_df['home']=0\n",
    "matches_df['away']=0\n",
    "matches_df['home_draw']=0\n",
    "#matches_df['away_draw']=0\n",
    "\n",
    "matches_df.loc[matches_df['home_team_goal'] > matches_df['away_team_goal'],'home']=1\n",
    "matches_df.loc[matches_df['home_team_goal'] < matches_df['away_team_goal'],'away']=1\n",
    "matches_df.loc[matches_df['home_team_goal'] == matches_df['away_team_goal'],'home_draw']=1\n",
    "#matches_df.loc[matches_df['home_team_goal'] == matches_df['away_team_goal'],'away_draw']=1"
   ]
  },
  {
   "cell_type": "code",
   "execution_count": null,
   "metadata": {
    "scrolled": true
   },
   "outputs": [],
   "source": [
    "matches_df.head(5)"
   ]
  },
  {
   "cell_type": "code",
   "execution_count": null,
   "metadata": {
    "ExecuteTime": {
     "end_time": "2020-08-25T12:15:39.185738Z",
     "start_time": "2020-08-25T12:15:39.180005Z"
    }
   },
   "outputs": [],
   "source": [
    "matches_df['lowest_odds']=0\n",
    "matches_df['highest_odds']=0\n",
    "matches_df['draw_only']=0\n",
    "matches_df['home_only']=0\n",
    "matches_df['away_only']=0"
   ]
  },
  {
   "cell_type": "code",
   "execution_count": null,
   "metadata": {
    "ExecuteTime": {
     "end_time": "2020-08-25T12:15:41.945656Z",
     "start_time": "2020-08-25T12:15:41.930132Z"
    }
   },
   "outputs": [],
   "source": [
    "matches_df.head(5)"
   ]
  },
  {
   "cell_type": "code",
   "execution_count": null,
   "metadata": {
    "ExecuteTime": {
     "end_time": "2020-08-25T12:15:45.485221Z",
     "start_time": "2020-08-25T12:15:45.481688Z"
    }
   },
   "outputs": [],
   "source": [
    "matches_df['min_profit']=-10"
   ]
  },
  {
   "cell_type": "markdown",
   "metadata": {},
   "source": [
    "### Lowest Odds"
   ]
  },
  {
   "cell_type": "code",
   "execution_count": null,
   "metadata": {
    "ExecuteTime": {
     "end_time": "2020-08-25T12:15:52.328752Z",
     "start_time": "2020-08-25T12:15:52.306407Z"
    }
   },
   "outputs": [],
   "source": [
    "matches_df.loc[(matches_df[['LBH','LBD','LBA']].min(axis=1) == matches_df['LBH']) & (matches_df['home'] == 1), 'min_profit'] = matches_df['LBH']*10 \n",
    "matches_df.loc[(matches_df[['LBH','LBD','LBA']].min(axis=1) == matches_df['LBA']) & (matches_df['away'] == 1), 'min_profit'] = matches_df['LBA']*10 \n",
    "matches_df.loc[(matches_df[['LBH','LBD','LBA']].min(axis=1) == matches_df['LBD']) & (matches_df['home_draw'] == 1), 'min_profit'] = matches_df['LBD']*10 "
   ]
  },
  {
   "cell_type": "code",
   "execution_count": null,
   "metadata": {
    "ExecuteTime": {
     "end_time": "2020-08-25T12:16:01.729459Z",
     "start_time": "2020-08-25T12:16:01.725407Z"
    }
   },
   "outputs": [],
   "source": [
    "matches_df['min_profit_cum']= matches_df['min_profit'].cumsum().fillna(0)"
   ]
  },
  {
   "cell_type": "code",
   "execution_count": null,
   "metadata": {
    "ExecuteTime": {
     "end_time": "2020-08-25T12:16:25.284413Z",
     "start_time": "2020-08-25T12:16:25.263863Z"
    }
   },
   "outputs": [],
   "source": [
    "matches_df.tail(10)"
   ]
  },
  {
   "cell_type": "markdown",
   "metadata": {},
   "source": [
    "### Highest Odds"
   ]
  },
  {
   "cell_type": "code",
   "execution_count": null,
   "metadata": {},
   "outputs": [],
   "source": [
    "matches_df['max_profit']=-10"
   ]
  },
  {
   "cell_type": "code",
   "execution_count": null,
   "metadata": {},
   "outputs": [],
   "source": [
    "matches_df.loc[(matches_df[['LBH','LBD','LBA']].max(axis=1) == matches_df['LBH']) & (matches_df['home'] == 1), 'max_profit'] = matches_df['LBH']*10\n",
    "matches_df.loc[(matches_df[['LBH','LBD','LBA']].max(axis=1) == matches_df['LBA']) & (matches_df['away'] == 1), 'max_profit'] = matches_df['LBA']*10\n",
    "matches_df.loc[(matches_df[['LBH','LBD','LBA']].max(axis=1) == matches_df['LBD']) & (matches_df['home_draw'] == 1), 'max_profit'] = matches_df['LBD']*10"
   ]
  },
  {
   "cell_type": "code",
   "execution_count": null,
   "metadata": {},
   "outputs": [],
   "source": [
    "matches_df['max_profit_cum']= matches_df['max_profit'].cumsum().fillna(0)"
   ]
  },
  {
   "cell_type": "code",
   "execution_count": null,
   "metadata": {
    "scrolled": true
   },
   "outputs": [],
   "source": [
    "matches_df.head(200)"
   ]
  },
  {
   "cell_type": "markdown",
   "metadata": {},
   "source": [
    "### Draw / Home / Away Only"
   ]
  },
  {
   "cell_type": "code",
   "execution_count": null,
   "metadata": {},
   "outputs": [],
   "source": [
    "matches_df['draw_profit']=-10"
   ]
  },
  {
   "cell_type": "code",
   "execution_count": null,
   "metadata": {},
   "outputs": [],
   "source": [
    "matches_df.loc[(matches_df['home_draw'] == 1), 'draw_profit'] = matches_df['LBD']*10"
   ]
  },
  {
   "cell_type": "code",
   "execution_count": null,
   "metadata": {},
   "outputs": [],
   "source": [
    "matches_df['draw_profit_cum']= matches_df['draw_profit'].cumsum().fillna(0)"
   ]
  },
  {
   "cell_type": "code",
   "execution_count": null,
   "metadata": {},
   "outputs": [],
   "source": [
    "matches_df['home_profit']=-10"
   ]
  },
  {
   "cell_type": "code",
   "execution_count": null,
   "metadata": {},
   "outputs": [],
   "source": [
    "matches_df.loc[(matches_df['home'] == 1), 'home_profit'] = matches_df['LBH']*10"
   ]
  },
  {
   "cell_type": "code",
   "execution_count": null,
   "metadata": {},
   "outputs": [],
   "source": [
    "matches_df['home_profit_cum']= matches_df['home_profit'].cumsum().fillna(0)"
   ]
  },
  {
   "cell_type": "code",
   "execution_count": null,
   "metadata": {},
   "outputs": [],
   "source": [
    "matches_df['away_profit']=-10"
   ]
  },
  {
   "cell_type": "code",
   "execution_count": null,
   "metadata": {},
   "outputs": [],
   "source": [
    "matches_df.loc[(matches_df['away'] == 1), 'away_profit'] = matches_df['LBA']*10"
   ]
  },
  {
   "cell_type": "code",
   "execution_count": null,
   "metadata": {},
   "outputs": [],
   "source": [
    "matches_df['away_profit_cum']= matches_df['away_profit'].cumsum().fillna(0)"
   ]
  },
  {
   "cell_type": "code",
   "execution_count": null,
   "metadata": {},
   "outputs": [],
   "source": [
    "matches_df.tail(5)"
   ]
  },
  {
   "cell_type": "code",
   "execution_count": null,
   "metadata": {},
   "outputs": [],
   "source": []
  },
  {
   "cell_type": "code",
   "execution_count": null,
   "metadata": {},
   "outputs": [],
   "source": []
  },
  {
   "cell_type": "code",
   "execution_count": null,
   "metadata": {},
   "outputs": [],
   "source": []
  },
  {
   "cell_type": "code",
   "execution_count": null,
   "metadata": {},
   "outputs": [],
   "source": []
  },
  {
   "cell_type": "code",
   "execution_count": null,
   "metadata": {},
   "outputs": [],
   "source": []
  },
  {
   "cell_type": "code",
   "execution_count": null,
   "metadata": {},
   "outputs": [],
   "source": [
    "\"\"\"matches_df['home_wins_cum']=matches_df.groupby('home_team_api_id')['home'].cumsum()\n",
    "matches_df['away_wins_cum']=matches_df.groupby('home_team_api_id')['away'].cumsum()\n",
    "matches_df['home_draw_cum']=matches_df.groupby('home_team_api_id')['home_draw'].cumsum()\n",
    "#matches_df['away_draw_cum']=matches_df.groupby('away_team_api_id')['away_draw'].cumsum()\n",
    "\"\"\""
   ]
  },
  {
   "cell_type": "code",
   "execution_count": null,
   "metadata": {
    "scrolled": true
   },
   "outputs": [],
   "source": [
    "\"\"\"matches_df.groupby('stage').head(20)\"\"\""
   ]
  },
  {
   "cell_type": "code",
   "execution_count": null,
   "metadata": {},
   "outputs": [],
   "source": []
  }
 ],
 "metadata": {
  "kernelspec": {
   "display_name": "Python 3",
   "language": "python",
   "name": "python3"
  },
  "language_info": {
   "codemirror_mode": {
    "name": "ipython",
    "version": 3
   },
   "file_extension": ".py",
   "mimetype": "text/x-python",
   "name": "python",
   "nbconvert_exporter": "python",
   "pygments_lexer": "ipython3",
   "version": "3.7.7"
  },
  "toc": {
   "base_numbering": 1,
   "nav_menu": {},
   "number_sections": true,
   "sideBar": true,
   "skip_h1_title": false,
   "title_cell": "Table of Contents",
   "title_sidebar": "Contents",
   "toc_cell": false,
   "toc_position": {},
   "toc_section_display": true,
   "toc_window_display": false
  },
  "varInspector": {
   "cols": {
    "lenName": 16,
    "lenType": 16,
    "lenVar": 40
   },
   "kernels_config": {
    "python": {
     "delete_cmd_postfix": "",
     "delete_cmd_prefix": "del ",
     "library": "var_list.py",
     "varRefreshCmd": "print(var_dic_list())"
    },
    "r": {
     "delete_cmd_postfix": ") ",
     "delete_cmd_prefix": "rm(",
     "library": "var_list.r",
     "varRefreshCmd": "cat(var_dic_list()) "
    }
   },
   "types_to_exclude": [
    "module",
    "function",
    "builtin_function_or_method",
    "instance",
    "_Feature"
   ],
   "window_display": false
  }
 },
 "nbformat": 4,
 "nbformat_minor": 4
}
