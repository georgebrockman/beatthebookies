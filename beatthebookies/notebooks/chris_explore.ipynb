{
 "cells": [
  {
   "cell_type": "code",
   "execution_count": 1,
   "metadata": {
    "ExecuteTime": {
     "end_time": "2020-08-27T09:43:32.074757Z",
     "start_time": "2020-08-27T09:43:32.057846Z"
    }
   },
   "outputs": [],
   "source": [
    "%load_ext autoreload\n",
    "%autoreload 2"
   ]
  },
  {
   "cell_type": "code",
   "execution_count": 4,
   "metadata": {
    "ExecuteTime": {
     "end_time": "2020-08-27T09:44:14.543447Z",
     "start_time": "2020-08-27T09:44:14.415822Z"
    }
   },
   "outputs": [],
   "source": [
    "# /Users/chriswesterman/Library/Jupyter/nbextensions/snippets\n",
    "import pandas as pd\n",
    "import numpy as np\n",
    "import matplotlib.pyplot as plt\n",
    "import seaborn as sns\n",
    "import beatthebookies.data as btb\n",
    "import sqlite3\n",
    "\n",
    "pd.set_option('display.max_columns', 500)\n"
   ]
  },
  {
   "cell_type": "markdown",
   "metadata": {},
   "source": [
    "# Exploratory notebook"
   ]
  },
  {
   "cell_type": "code",
   "execution_count": 11,
   "metadata": {
    "ExecuteTime": {
     "end_time": "2020-08-27T12:17:33.614175Z",
     "start_time": "2020-08-27T12:17:33.590505Z"
    }
   },
   "outputs": [],
   "source": [
    "path = '../data/fifarank.csv'"
   ]
  },
  {
   "cell_type": "code",
   "execution_count": 12,
   "metadata": {
    "ExecuteTime": {
     "end_time": "2020-08-27T12:17:34.016457Z",
     "start_time": "2020-08-27T12:17:33.993781Z"
    }
   },
   "outputs": [],
   "source": [
    "df = pd.read_csv(path)"
   ]
  },
  {
   "cell_type": "code",
   "execution_count": 16,
   "metadata": {
    "ExecuteTime": {
     "end_time": "2020-08-27T12:17:55.335404Z",
     "start_time": "2020-08-27T12:17:55.310765Z"
    }
   },
   "outputs": [
    {
     "data": {
      "text/plain": [
       "array(['Arsenal', 'Manchester United', 'Chelsea', 'Liverpool',\n",
       "       'Newcastle United', 'Middlesbrough', 'Fulham', 'Tottenham Hotspur',\n",
       "       'Manchester City', 'Birmingham City', 'Aston Villa',\n",
       "       'Charlton Athletic', 'Bolton Wanderers', 'Blackburn Rovers',\n",
       "       'Southampton', 'Portsmouth', 'Everton', 'West Bromwich',\n",
       "       'Norwich City', 'Crystal Palace', 'West Ham United',\n",
       "       'Wigan Athletic', 'Sunderland', 'Sheffield United', 'Reading FC',\n",
       "       'Watford', 'Chelsea FC', 'Arsenal FC', 'Derby County', 'Hull City',\n",
       "       'Stoke City', 'Burnley', 'Wolverhampton Wanderers',\n",
       "       'West Bromwich Albion', 'Blackpool', 'Queens Park Rangers',\n",
       "       'Swansea City', 'Reading', 'Cardiff City', 'Leicester City',\n",
       "       'Bournemouth', 'Brighton & Hove Albion', 'Huddersfield Town',\n",
       "       'AFC Bournemouth'], dtype=object)"
      ]
     },
     "execution_count": 16,
     "metadata": {},
     "output_type": "execute_result"
    }
   ],
   "source": [
    "df.Team.unique()"
   ]
  },
  {
   "cell_type": "code",
   "execution_count": null,
   "metadata": {},
   "outputs": [],
   "source": []
  },
  {
   "cell_type": "code",
   "execution_count": 5,
   "metadata": {
    "ExecuteTime": {
     "end_time": "2020-08-27T09:44:24.701394Z",
     "start_time": "2020-08-27T09:44:15.673769Z"
    }
   },
   "outputs": [
    {
     "name": "stdout",
     "output_type": "stream",
     "text": [
      "get_data 9.0\n"
     ]
    }
   ],
   "source": [
    "matches = btb.get_data()"
   ]
  },
  {
   "cell_type": "code",
   "execution_count": 7,
   "metadata": {
    "ExecuteTime": {
     "end_time": "2020-08-27T11:59:18.066144Z",
     "start_time": "2020-08-27T11:59:18.035634Z"
    }
   },
   "outputs": [
    {
     "name": "stdout",
     "output_type": "stream",
     "text": [
      "2006/2007\n",
      "2007/2008\n",
      "2008/2009\n",
      "2009/2010\n",
      "2010/2011\n",
      "2011/2012\n",
      "2012/2013\n",
      "2013/2014\n",
      "2014/2015\n",
      "2015/2016\n",
      "2016/2017\n",
      "2017/2018\n",
      "2018/2019\n",
      "2019/2020\n",
      "2020/2021\n"
     ]
    }
   ],
   "source": [
    "seasons = ['06','07','08','09','10','11','12','13','14','15','16','17','18','19','20']\n",
    "for year in seasons:\n",
    "    print(f'20{year}/20{str(int(year)+1).zfill(2)}')"
   ]
  },
  {
   "cell_type": "code",
   "execution_count": 6,
   "metadata": {
    "ExecuteTime": {
     "end_time": "2020-08-27T09:44:25.418926Z",
     "start_time": "2020-08-27T09:44:25.376047Z"
    }
   },
   "outputs": [
    {
     "data": {
      "text/html": [
       "<div>\n",
       "<style scoped>\n",
       "    .dataframe tbody tr th:only-of-type {\n",
       "        vertical-align: middle;\n",
       "    }\n",
       "\n",
       "    .dataframe tbody tr th {\n",
       "        vertical-align: top;\n",
       "    }\n",
       "\n",
       "    .dataframe thead th {\n",
       "        text-align: right;\n",
       "    }\n",
       "</style>\n",
       "<table border=\"1\" class=\"dataframe\">\n",
       "  <thead>\n",
       "    <tr style=\"text-align: right;\">\n",
       "      <th></th>\n",
       "      <th>id</th>\n",
       "      <th>season</th>\n",
       "      <th>stage</th>\n",
       "      <th>date</th>\n",
       "      <th>home_team</th>\n",
       "      <th>away_team</th>\n",
       "      <th>home_team_goal</th>\n",
       "      <th>away_team_goal</th>\n",
       "      <th>home_w</th>\n",
       "      <th>away_w</th>\n",
       "      <th>draw</th>\n",
       "      <th>home_t_home_goals</th>\n",
       "      <th>home_t_home_goals_against</th>\n",
       "      <th>home_t_home_wins</th>\n",
       "      <th>home_t_home_losses</th>\n",
       "      <th>home_t_home_draws</th>\n",
       "      <th>away_t_away_goals</th>\n",
       "      <th>away_t_away_goals_against</th>\n",
       "      <th>away_t_away_wins</th>\n",
       "      <th>away_t_away_losses</th>\n",
       "      <th>away_t_away_draws</th>\n",
       "      <th>home_t_total_goals</th>\n",
       "      <th>home_t_total_goals_against</th>\n",
       "      <th>home_t_total_wins</th>\n",
       "      <th>home_t_total_losses</th>\n",
       "      <th>home_t_total_draws</th>\n",
       "      <th>away_t_total_goals</th>\n",
       "      <th>away_t_total_goals_against</th>\n",
       "      <th>away_t_total_wins</th>\n",
       "      <th>away_t_total_losses</th>\n",
       "      <th>away_t_total_draws</th>\n",
       "      <th>bups_x</th>\n",
       "      <th>bupp_x</th>\n",
       "      <th>ccp_x</th>\n",
       "      <th>ccc_x</th>\n",
       "      <th>ccs_x</th>\n",
       "      <th>dp_x</th>\n",
       "      <th>da_x</th>\n",
       "      <th>dtw_x</th>\n",
       "      <th>bups_y</th>\n",
       "      <th>bupp_y</th>\n",
       "      <th>ccp_y</th>\n",
       "      <th>ccc_y</th>\n",
       "      <th>ccs_y</th>\n",
       "      <th>dp_y</th>\n",
       "      <th>da_y</th>\n",
       "      <th>dtw_y</th>\n",
       "    </tr>\n",
       "  </thead>\n",
       "  <tbody>\n",
       "    <tr>\n",
       "      <th>375</th>\n",
       "      <td>4701</td>\n",
       "      <td>2015/2016</td>\n",
       "      <td>38</td>\n",
       "      <td>2016-05-15 00:00:00</td>\n",
       "      <td>Everton</td>\n",
       "      <td>Norwich City</td>\n",
       "      <td>3</td>\n",
       "      <td>0</td>\n",
       "      <td>1</td>\n",
       "      <td>0</td>\n",
       "      <td>0</td>\n",
       "      <td>32</td>\n",
       "      <td>30</td>\n",
       "      <td>5</td>\n",
       "      <td>8</td>\n",
       "      <td>5</td>\n",
       "      <td>13</td>\n",
       "      <td>34</td>\n",
       "      <td>3</td>\n",
       "      <td>13</td>\n",
       "      <td>2</td>\n",
       "      <td>56</td>\n",
       "      <td>55</td>\n",
       "      <td>10</td>\n",
       "      <td>13</td>\n",
       "      <td>14</td>\n",
       "      <td>39</td>\n",
       "      <td>64</td>\n",
       "      <td>9</td>\n",
       "      <td>21</td>\n",
       "      <td>7</td>\n",
       "      <td>43</td>\n",
       "      <td>40</td>\n",
       "      <td>39</td>\n",
       "      <td>33</td>\n",
       "      <td>63</td>\n",
       "      <td>52</td>\n",
       "      <td>58</td>\n",
       "      <td>59</td>\n",
       "      <td>45</td>\n",
       "      <td>55</td>\n",
       "      <td>46</td>\n",
       "      <td>54</td>\n",
       "      <td>47</td>\n",
       "      <td>38</td>\n",
       "      <td>39</td>\n",
       "      <td>51</td>\n",
       "    </tr>\n",
       "    <tr>\n",
       "      <th>376</th>\n",
       "      <td>4700</td>\n",
       "      <td>2015/2016</td>\n",
       "      <td>38</td>\n",
       "      <td>2016-05-15 00:00:00</td>\n",
       "      <td>Chelsea</td>\n",
       "      <td>Leicester City</td>\n",
       "      <td>1</td>\n",
       "      <td>1</td>\n",
       "      <td>0</td>\n",
       "      <td>0</td>\n",
       "      <td>1</td>\n",
       "      <td>31</td>\n",
       "      <td>29</td>\n",
       "      <td>5</td>\n",
       "      <td>5</td>\n",
       "      <td>8</td>\n",
       "      <td>32</td>\n",
       "      <td>17</td>\n",
       "      <td>11</td>\n",
       "      <td>2</td>\n",
       "      <td>5</td>\n",
       "      <td>58</td>\n",
       "      <td>52</td>\n",
       "      <td>12</td>\n",
       "      <td>12</td>\n",
       "      <td>13</td>\n",
       "      <td>67</td>\n",
       "      <td>35</td>\n",
       "      <td>23</td>\n",
       "      <td>3</td>\n",
       "      <td>11</td>\n",
       "      <td>67</td>\n",
       "      <td>36</td>\n",
       "      <td>41</td>\n",
       "      <td>34</td>\n",
       "      <td>44</td>\n",
       "      <td>39</td>\n",
       "      <td>41</td>\n",
       "      <td>46</td>\n",
       "      <td>63</td>\n",
       "      <td>60</td>\n",
       "      <td>47</td>\n",
       "      <td>64</td>\n",
       "      <td>46</td>\n",
       "      <td>58</td>\n",
       "      <td>65</td>\n",
       "      <td>55</td>\n",
       "    </tr>\n",
       "    <tr>\n",
       "      <th>377</th>\n",
       "      <td>4699</td>\n",
       "      <td>2015/2016</td>\n",
       "      <td>38</td>\n",
       "      <td>2016-05-15 00:00:00</td>\n",
       "      <td>Arsenal</td>\n",
       "      <td>Aston Villa</td>\n",
       "      <td>4</td>\n",
       "      <td>0</td>\n",
       "      <td>1</td>\n",
       "      <td>0</td>\n",
       "      <td>0</td>\n",
       "      <td>27</td>\n",
       "      <td>11</td>\n",
       "      <td>11</td>\n",
       "      <td>3</td>\n",
       "      <td>4</td>\n",
       "      <td>13</td>\n",
       "      <td>37</td>\n",
       "      <td>1</td>\n",
       "      <td>14</td>\n",
       "      <td>3</td>\n",
       "      <td>61</td>\n",
       "      <td>36</td>\n",
       "      <td>19</td>\n",
       "      <td>7</td>\n",
       "      <td>11</td>\n",
       "      <td>27</td>\n",
       "      <td>72</td>\n",
       "      <td>3</td>\n",
       "      <td>26</td>\n",
       "      <td>8</td>\n",
       "      <td>59</td>\n",
       "      <td>30</td>\n",
       "      <td>28</td>\n",
       "      <td>44</td>\n",
       "      <td>46</td>\n",
       "      <td>51</td>\n",
       "      <td>44</td>\n",
       "      <td>52</td>\n",
       "      <td>63</td>\n",
       "      <td>54</td>\n",
       "      <td>60</td>\n",
       "      <td>48</td>\n",
       "      <td>38</td>\n",
       "      <td>35</td>\n",
       "      <td>44</td>\n",
       "      <td>54</td>\n",
       "    </tr>\n",
       "    <tr>\n",
       "      <th>378</th>\n",
       "      <td>4704</td>\n",
       "      <td>2015/2016</td>\n",
       "      <td>38</td>\n",
       "      <td>2016-05-15 00:00:00</td>\n",
       "      <td>Southampton</td>\n",
       "      <td>Crystal Palace</td>\n",
       "      <td>4</td>\n",
       "      <td>1</td>\n",
       "      <td>1</td>\n",
       "      <td>0</td>\n",
       "      <td>0</td>\n",
       "      <td>35</td>\n",
       "      <td>21</td>\n",
       "      <td>10</td>\n",
       "      <td>5</td>\n",
       "      <td>3</td>\n",
       "      <td>19</td>\n",
       "      <td>24</td>\n",
       "      <td>5</td>\n",
       "      <td>7</td>\n",
       "      <td>6</td>\n",
       "      <td>55</td>\n",
       "      <td>40</td>\n",
       "      <td>17</td>\n",
       "      <td>11</td>\n",
       "      <td>9</td>\n",
       "      <td>38</td>\n",
       "      <td>47</td>\n",
       "      <td>11</td>\n",
       "      <td>17</td>\n",
       "      <td>9</td>\n",
       "      <td>52</td>\n",
       "      <td>46</td>\n",
       "      <td>42</td>\n",
       "      <td>54</td>\n",
       "      <td>30</td>\n",
       "      <td>50</td>\n",
       "      <td>65</td>\n",
       "      <td>44</td>\n",
       "      <td>61</td>\n",
       "      <td>67</td>\n",
       "      <td>67</td>\n",
       "      <td>69</td>\n",
       "      <td>50</td>\n",
       "      <td>36</td>\n",
       "      <td>34</td>\n",
       "      <td>41</td>\n",
       "    </tr>\n",
       "    <tr>\n",
       "      <th>379</th>\n",
       "      <td>4702</td>\n",
       "      <td>2015/2016</td>\n",
       "      <td>38</td>\n",
       "      <td>2016-05-17 00:00:00</td>\n",
       "      <td>Manchester United</td>\n",
       "      <td>Bournemouth</td>\n",
       "      <td>3</td>\n",
       "      <td>1</td>\n",
       "      <td>1</td>\n",
       "      <td>0</td>\n",
       "      <td>0</td>\n",
       "      <td>24</td>\n",
       "      <td>8</td>\n",
       "      <td>11</td>\n",
       "      <td>2</td>\n",
       "      <td>5</td>\n",
       "      <td>21</td>\n",
       "      <td>30</td>\n",
       "      <td>6</td>\n",
       "      <td>8</td>\n",
       "      <td>4</td>\n",
       "      <td>46</td>\n",
       "      <td>34</td>\n",
       "      <td>18</td>\n",
       "      <td>10</td>\n",
       "      <td>9</td>\n",
       "      <td>44</td>\n",
       "      <td>64</td>\n",
       "      <td>11</td>\n",
       "      <td>17</td>\n",
       "      <td>9</td>\n",
       "      <td>38</td>\n",
       "      <td>44</td>\n",
       "      <td>49</td>\n",
       "      <td>44</td>\n",
       "      <td>40</td>\n",
       "      <td>54</td>\n",
       "      <td>53</td>\n",
       "      <td>56</td>\n",
       "      <td>47</td>\n",
       "      <td>47</td>\n",
       "      <td>49</td>\n",
       "      <td>45</td>\n",
       "      <td>47</td>\n",
       "      <td>48</td>\n",
       "      <td>50</td>\n",
       "      <td>62</td>\n",
       "    </tr>\n",
       "  </tbody>\n",
       "</table>\n",
       "</div>"
      ],
      "text/plain": [
       "       id     season  stage                 date          home_team  \\\n",
       "375  4701  2015/2016     38  2016-05-15 00:00:00            Everton   \n",
       "376  4700  2015/2016     38  2016-05-15 00:00:00            Chelsea   \n",
       "377  4699  2015/2016     38  2016-05-15 00:00:00            Arsenal   \n",
       "378  4704  2015/2016     38  2016-05-15 00:00:00        Southampton   \n",
       "379  4702  2015/2016     38  2016-05-17 00:00:00  Manchester United   \n",
       "\n",
       "          away_team  home_team_goal  away_team_goal  home_w  away_w  draw  \\\n",
       "375    Norwich City               3               0       1       0     0   \n",
       "376  Leicester City               1               1       0       0     1   \n",
       "377     Aston Villa               4               0       1       0     0   \n",
       "378  Crystal Palace               4               1       1       0     0   \n",
       "379     Bournemouth               3               1       1       0     0   \n",
       "\n",
       "     home_t_home_goals  home_t_home_goals_against  home_t_home_wins  \\\n",
       "375                 32                         30                 5   \n",
       "376                 31                         29                 5   \n",
       "377                 27                         11                11   \n",
       "378                 35                         21                10   \n",
       "379                 24                          8                11   \n",
       "\n",
       "     home_t_home_losses  home_t_home_draws  away_t_away_goals  \\\n",
       "375                   8                  5                 13   \n",
       "376                   5                  8                 32   \n",
       "377                   3                  4                 13   \n",
       "378                   5                  3                 19   \n",
       "379                   2                  5                 21   \n",
       "\n",
       "     away_t_away_goals_against  away_t_away_wins  away_t_away_losses  \\\n",
       "375                         34                 3                  13   \n",
       "376                         17                11                   2   \n",
       "377                         37                 1                  14   \n",
       "378                         24                 5                   7   \n",
       "379                         30                 6                   8   \n",
       "\n",
       "     away_t_away_draws  home_t_total_goals  home_t_total_goals_against  \\\n",
       "375                  2                  56                          55   \n",
       "376                  5                  58                          52   \n",
       "377                  3                  61                          36   \n",
       "378                  6                  55                          40   \n",
       "379                  4                  46                          34   \n",
       "\n",
       "     home_t_total_wins  home_t_total_losses  home_t_total_draws  \\\n",
       "375                 10                   13                  14   \n",
       "376                 12                   12                  13   \n",
       "377                 19                    7                  11   \n",
       "378                 17                   11                   9   \n",
       "379                 18                   10                   9   \n",
       "\n",
       "     away_t_total_goals  away_t_total_goals_against  away_t_total_wins  \\\n",
       "375                  39                          64                  9   \n",
       "376                  67                          35                 23   \n",
       "377                  27                          72                  3   \n",
       "378                  38                          47                 11   \n",
       "379                  44                          64                 11   \n",
       "\n",
       "     away_t_total_losses  away_t_total_draws  bups_x  bupp_x  ccp_x  ccc_x  \\\n",
       "375                   21                   7      43      40     39     33   \n",
       "376                    3                  11      67      36     41     34   \n",
       "377                   26                   8      59      30     28     44   \n",
       "378                   17                   9      52      46     42     54   \n",
       "379                   17                   9      38      44     49     44   \n",
       "\n",
       "     ccs_x  dp_x  da_x  dtw_x  bups_y  bupp_y  ccp_y  ccc_y  ccs_y  dp_y  \\\n",
       "375     63    52    58     59      45      55     46     54     47    38   \n",
       "376     44    39    41     46      63      60     47     64     46    58   \n",
       "377     46    51    44     52      63      54     60     48     38    35   \n",
       "378     30    50    65     44      61      67     67     69     50    36   \n",
       "379     40    54    53     56      47      47     49     45     47    48   \n",
       "\n",
       "     da_y  dtw_y  \n",
       "375    39     51  \n",
       "376    65     55  \n",
       "377    44     54  \n",
       "378    34     41  \n",
       "379    50     62  "
      ]
     },
     "execution_count": 6,
     "metadata": {},
     "output_type": "execute_result"
    }
   ],
   "source": [
    "matches.tail()"
   ]
  },
  {
   "cell_type": "code",
   "execution_count": null,
   "metadata": {
    "ExecuteTime": {
     "end_time": "2020-08-26T15:35:58.856879Z",
     "start_time": "2020-08-26T15:35:58.833821Z"
    }
   },
   "outputs": [],
   "source": [
    "sql_path = '../data/'\n",
    "database = sql_path + 'database.sqlite'\n",
    "conn = sqlite3.connect(database)"
   ]
  },
  {
   "cell_type": "code",
   "execution_count": null,
   "metadata": {
    "ExecuteTime": {
     "end_time": "2020-08-26T15:53:03.031132Z",
     "start_time": "2020-08-26T15:53:02.954130Z"
    }
   },
   "outputs": [],
   "source": [
    "df = pd.read_sql(\"\"\"SELECT m.id,\n",
    "                        m.season, m.stage, m.date,\n",
    "                        ht.team_long_name as home_team, at.team_long_name as away_team, m.home_team_goal,\n",
    "                        m.away_team_goal, m.home_team_api_id as home_api, m.away_team_api_id as away_api\n",
    "                        FROM Match as m\n",
    "                        LEFT JOIN Team AS ht on ht.team_api_id = m.home_team_api_id\n",
    "                        LEFT JOIN Team AS at on at.team_api_id = m.away_team_api_id\n",
    "                        WHERE league_id = :league AND season != :season\n",
    "                        ;\"\"\", conn, params={\"league\":1729, \"season\":'2008/2009'})"
   ]
  },
  {
   "cell_type": "code",
   "execution_count": null,
   "metadata": {
    "ExecuteTime": {
     "end_time": "2020-08-26T15:53:05.168723Z",
     "start_time": "2020-08-26T15:53:05.146112Z"
    }
   },
   "outputs": [],
   "source": [
    "df.shape"
   ]
  },
  {
   "cell_type": "code",
   "execution_count": null,
   "metadata": {
    "ExecuteTime": {
     "end_time": "2020-08-26T15:53:07.969630Z",
     "start_time": "2020-08-26T15:53:07.940507Z"
    }
   },
   "outputs": [],
   "source": [
    "df.head()"
   ]
  },
  {
   "cell_type": "code",
   "execution_count": null,
   "metadata": {
    "ExecuteTime": {
     "end_time": "2020-08-26T15:46:21.942806Z",
     "start_time": "2020-08-26T15:46:21.891286Z"
    }
   },
   "outputs": [],
   "source": [
    "stats2 = pd.read_sql(\"\"\"Select * from Team_Attributes\"\"\", conn)\n",
    "stats2.head()"
   ]
  },
  {
   "cell_type": "code",
   "execution_count": null,
   "metadata": {
    "ExecuteTime": {
     "end_time": "2020-08-26T16:01:08.802494Z",
     "start_time": "2020-08-26T16:01:08.777843Z"
    }
   },
   "outputs": [],
   "source": [
    "stats2.buildUpPlayPositionClass.unique()"
   ]
  },
  {
   "cell_type": "code",
   "execution_count": null,
   "metadata": {
    "ExecuteTime": {
     "end_time": "2020-08-26T15:52:54.350588Z",
     "start_time": "2020-08-26T15:52:54.280801Z"
    }
   },
   "outputs": [],
   "source": [
    "h_stats = pd.read_sql(\"\"\"Select * from Team_Attributes\"\"\", conn)\n",
    "a_stats = pd.read_sql(\"\"\"Select * from Team_Attributes\"\"\", conn)\n",
    "h_stats['date'] = pd.to_datetime(h_stats['date'])\n",
    "h_stats['year'] = pd.DatetimeIndex(h_stats['date']).year\n",
    "season_maps = {2010: '2009/2010', 2011: '2010/2011', 2012:'2011/2012',\n",
    "             2013:'2013/2014', 2014: '2014/2015', 2015:'2015/2016'}\n",
    "h_stats['season'] = h_stats['year'].map(season_maps)\n",
    "h_stats = h_stats[['season', 'team_api_id', 'buildUpPlaySpeed']]\n",
    "\n",
    "a_stats['date'] = pd.to_datetime(a_stats['date'])\n",
    "a_stats['year'] = pd.DatetimeIndex(a_stats['date']).year\n",
    "season_maps = {2010: '2009/2010', 2011: '2010/2011', 2012:'2011/2012',\n",
    "             2013:'2013/2014', 2014: '2014/2015', 2015:'2015/2016'}\n",
    "a_stats['season'] = a_stats['year'].map(season_maps)\n",
    "a_stats = a_stats[['season', 'team_api_id', 'buildUpPlaySpeed']]\n"
   ]
  },
  {
   "cell_type": "code",
   "execution_count": null,
   "metadata": {
    "ExecuteTime": {
     "end_time": "2020-08-26T15:41:46.530631Z",
     "start_time": "2020-08-26T15:41:46.505629Z"
    }
   },
   "outputs": [],
   "source": [
    "h_stats.head()"
   ]
  },
  {
   "cell_type": "code",
   "execution_count": null,
   "metadata": {
    "ExecuteTime": {
     "end_time": "2020-08-26T15:53:25.847713Z",
     "start_time": "2020-08-26T15:53:25.821697Z"
    }
   },
   "outputs": [],
   "source": [
    "h_stats[h_stats['team_api_id'] == 10260 ]"
   ]
  },
  {
   "cell_type": "code",
   "execution_count": null,
   "metadata": {
    "ExecuteTime": {
     "end_time": "2020-08-26T15:54:44.049966Z",
     "start_time": "2020-08-26T15:54:44.022099Z"
    }
   },
   "outputs": [],
   "source": [
    "a_stats[a_stats['team_api_id'] == 8655]"
   ]
  },
  {
   "cell_type": "code",
   "execution_count": null,
   "metadata": {},
   "outputs": [],
   "source": []
  },
  {
   "cell_type": "code",
   "execution_count": null,
   "metadata": {
    "ExecuteTime": {
     "end_time": "2020-08-26T15:57:18.217285Z",
     "start_time": "2020-08-26T15:57:18.190580Z"
    }
   },
   "outputs": [],
   "source": [
    "df = pd.merge(df, h_stats, how='left', left_on=['season', 'home_api'], right_on=['season', 'team_api_id'])"
   ]
  },
  {
   "cell_type": "code",
   "execution_count": null,
   "metadata": {
    "ExecuteTime": {
     "end_time": "2020-08-26T15:57:19.685500Z",
     "start_time": "2020-08-26T15:57:19.662289Z"
    }
   },
   "outputs": [],
   "source": [
    "df = df.rename(columns={'buildUpPlaySpeed': 'home speed'})"
   ]
  },
  {
   "cell_type": "code",
   "execution_count": null,
   "metadata": {
    "ExecuteTime": {
     "end_time": "2020-08-26T15:57:20.556742Z",
     "start_time": "2020-08-26T15:57:20.526162Z"
    }
   },
   "outputs": [],
   "source": [
    "df.head()"
   ]
  },
  {
   "cell_type": "code",
   "execution_count": null,
   "metadata": {
    "ExecuteTime": {
     "end_time": "2020-08-26T15:57:53.187162Z",
     "start_time": "2020-08-26T15:57:53.159887Z"
    }
   },
   "outputs": [],
   "source": [
    "df = pd.merge(df, a_stats, how='left', left_on=['season', 'away_api'], right_on=['season', 'team_api_id'])"
   ]
  },
  {
   "cell_type": "code",
   "execution_count": null,
   "metadata": {
    "ExecuteTime": {
     "end_time": "2020-08-26T16:26:55.776808Z",
     "start_time": "2020-08-26T16:26:55.750580Z"
    }
   },
   "outputs": [],
   "source": [
    "df.columns"
   ]
  },
  {
   "cell_type": "code",
   "execution_count": null,
   "metadata": {
    "ExecuteTime": {
     "end_time": "2020-08-26T15:42:48.519022Z",
     "start_time": "2020-08-26T15:42:48.490794Z"
    }
   },
   "outputs": [],
   "source": [
    "df.info()"
   ]
  },
  {
   "cell_type": "code",
   "execution_count": null,
   "metadata": {
    "ExecuteTime": {
     "end_time": "2020-08-26T15:58:25.112945Z",
     "start_time": "2020-08-26T15:58:25.052074Z"
    }
   },
   "outputs": [],
   "source": [
    "df[df['home_api'] == 10260]"
   ]
  },
  {
   "cell_type": "code",
   "execution_count": null,
   "metadata": {
    "ExecuteTime": {
     "end_time": "2020-08-26T14:07:48.111887Z",
     "start_time": "2020-08-26T14:07:48.089527Z"
    }
   },
   "outputs": [],
   "source": [
    "columns = [['buildUpPlaySpeed', 'buildUpPlayDribbling', 'buildUpPlayPassing', 'chanceCreationPassing', \n",
    "            'chanceCreationCrossing','chanceCreationShooting','defencePressure','defenceAggression','defenceTeamWidth']]"
   ]
  },
  {
   "cell_type": "code",
   "execution_count": null,
   "metadata": {
    "ExecuteTime": {
     "end_time": "2020-08-26T14:40:43.313180Z",
     "start_time": "2020-08-26T14:40:43.287540Z"
    }
   },
   "outputs": [],
   "source": [
    "stats.date.value_counts()"
   ]
  },
  {
   "cell_type": "code",
   "execution_count": null,
   "metadata": {},
   "outputs": [],
   "source": []
  },
  {
   "cell_type": "code",
   "execution_count": null,
   "metadata": {
    "ExecuteTime": {
     "end_time": "2020-08-26T15:03:43.077256Z",
     "start_time": "2020-08-26T15:03:43.051678Z"
    }
   },
   "outputs": [],
   "source": [
    "mock_score = pd.DataFrame([['A', 1, 90], ['A', 2, 80], ['A',3,100], ['B', 1, 95], ['B',2,85]], columns = ['year', 'team', 'stat'])"
   ]
  },
  {
   "cell_type": "code",
   "execution_count": null,
   "metadata": {
    "ExecuteTime": {
     "end_time": "2020-08-26T09:38:25.829004Z",
     "start_time": "2020-08-26T09:38:25.804246Z"
    }
   },
   "outputs": [],
   "source": [
    "mock = pd.DataFrame([['A',1,1],\n",
    "                    ['A',2,2],\n",
    "                    ['A',1,3],\n",
    "                    ['A',2,4],\n",
    "                    ['A',1,5],\n",
    "                    ['B',1,6],\n",
    "                    ['B',2,7],\n",
    "                    ['B',1,8],\n",
    "                    ['B',2,9],\n",
    "                    ['B',1,10]], columns=['year','team','score'])"
   ]
  },
  {
   "cell_type": "code",
   "execution_count": null,
   "metadata": {
    "ExecuteTime": {
     "end_time": "2020-08-26T15:03:46.587105Z",
     "start_time": "2020-08-26T15:03:46.560427Z"
    }
   },
   "outputs": [],
   "source": [
    "mock, mock_score"
   ]
  },
  {
   "cell_type": "code",
   "execution_count": null,
   "metadata": {
    "ExecuteTime": {
     "end_time": "2020-08-26T15:03:57.802000Z",
     "start_time": "2020-08-26T15:03:57.778194Z"
    }
   },
   "outputs": [],
   "source": [
    "test = pd.merge(mock, mock_score, on=['year', 'team'])"
   ]
  },
  {
   "cell_type": "code",
   "execution_count": null,
   "metadata": {
    "ExecuteTime": {
     "end_time": "2020-08-26T15:04:00.620218Z",
     "start_time": "2020-08-26T15:04:00.592806Z"
    }
   },
   "outputs": [],
   "source": [
    "test"
   ]
  },
  {
   "cell_type": "code",
   "execution_count": null,
   "metadata": {},
   "outputs": [],
   "source": []
  }
 ],
 "metadata": {
  "kernelspec": {
   "display_name": "Python 3",
   "language": "python",
   "name": "python3"
  },
  "language_info": {
   "codemirror_mode": {
    "name": "ipython",
    "version": 3
   },
   "file_extension": ".py",
   "mimetype": "text/x-python",
   "name": "python",
   "nbconvert_exporter": "python",
   "pygments_lexer": "ipython3",
   "version": "3.7.7"
  },
  "toc": {
   "base_numbering": 1,
   "nav_menu": {},
   "number_sections": true,
   "sideBar": true,
   "skip_h1_title": false,
   "title_cell": "Table of Contents",
   "title_sidebar": "Contents",
   "toc_cell": false,
   "toc_position": {},
   "toc_section_display": true,
   "toc_window_display": false
  },
  "varInspector": {
   "cols": {
    "lenName": 16,
    "lenType": 16,
    "lenVar": 40
   },
   "kernels_config": {
    "python": {
     "delete_cmd_postfix": "",
     "delete_cmd_prefix": "del ",
     "library": "var_list.py",
     "varRefreshCmd": "print(var_dic_list())"
    },
    "r": {
     "delete_cmd_postfix": ") ",
     "delete_cmd_prefix": "rm(",
     "library": "var_list.r",
     "varRefreshCmd": "cat(var_dic_list()) "
    }
   },
   "types_to_exclude": [
    "module",
    "function",
    "builtin_function_or_method",
    "instance",
    "_Feature"
   ],
   "window_display": false
  }
 },
 "nbformat": 4,
 "nbformat_minor": 4
}
