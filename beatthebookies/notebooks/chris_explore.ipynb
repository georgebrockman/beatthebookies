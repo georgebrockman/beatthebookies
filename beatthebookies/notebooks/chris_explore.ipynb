{
 "cells": [
  {
   "cell_type": "code",
   "execution_count": 1,
   "metadata": {
    "ExecuteTime": {
     "end_time": "2020-08-25T15:03:01.910972Z",
     "start_time": "2020-08-25T15:03:01.893404Z"
    }
   },
   "outputs": [],
   "source": [
    "%load_ext autoreload\n",
    "%autoreload 2"
   ]
  },
  {
   "cell_type": "code",
   "execution_count": 2,
   "metadata": {
    "ExecuteTime": {
     "end_time": "2020-08-25T15:03:03.707342Z",
     "start_time": "2020-08-25T15:03:02.748448Z"
    }
   },
   "outputs": [],
   "source": [
    "# /Users/chriswesterman/Library/Jupyter/nbextensions/snippets\n",
    "import pandas as pd\n",
    "import numpy as np\n",
    "import matplotlib.pyplot as plt\n",
    "import seaborn as sns\n",
    "import beatthebookies.data as btb\n",
    "\n",
    "pd.set_option('display.max_columns', 500)\n"
   ]
  },
  {
   "cell_type": "markdown",
   "metadata": {},
   "source": [
    "# Exploratory notebook"
   ]
  },
  {
   "cell_type": "code",
   "execution_count": 8,
   "metadata": {
    "ExecuteTime": {
     "end_time": "2020-08-25T15:07:42.919139Z",
     "start_time": "2020-08-25T15:07:36.113201Z"
    }
   },
   "outputs": [
    {
     "name": "stdout",
     "output_type": "stream",
     "text": [
      "get_data 6.78\n"
     ]
    }
   ],
   "source": [
    "test = btb.get_data(season='2008/2009')"
   ]
  },
  {
   "cell_type": "code",
   "execution_count": 9,
   "metadata": {
    "ExecuteTime": {
     "end_time": "2020-08-25T15:07:44.309795Z",
     "start_time": "2020-08-25T15:07:44.287042Z"
    }
   },
   "outputs": [
    {
     "data": {
      "text/plain": [
       "(380, 31)"
      ]
     },
     "execution_count": 9,
     "metadata": {},
     "output_type": "execute_result"
    }
   ],
   "source": [
    "test.shape"
   ]
  },
  {
   "cell_type": "code",
   "execution_count": 10,
   "metadata": {
    "ExecuteTime": {
     "end_time": "2020-08-25T15:08:37.493933Z",
     "start_time": "2020-08-25T15:07:49.467319Z"
    }
   },
   "outputs": [
    {
     "name": "stdout",
     "output_type": "stream",
     "text": [
      "get_data 6.81\n",
      "get_data 6.82\n",
      "get_data 6.8\n",
      "get_data 6.87\n",
      "get_data 6.91\n",
      "get_data 6.92\n",
      "get_data 6.84\n"
     ]
    }
   ],
   "source": [
    "seasons = ['2009/2010','2010/2011', '2011/2012', '2012/2013', '2013/2014', '2014/2015', '2015/2016']\n",
    "\n",
    "for year in seasons:\n",
    "    x = btb.get_data(season=year)\n",
    "    test = pd.concat([test, x], axis=0)"
   ]
  },
  {
   "cell_type": "code",
   "execution_count": 11,
   "metadata": {
    "ExecuteTime": {
     "end_time": "2020-08-25T15:08:39.516968Z",
     "start_time": "2020-08-25T15:08:39.493233Z"
    }
   },
   "outputs": [
    {
     "data": {
      "text/plain": [
       "(3040, 31)"
      ]
     },
     "execution_count": 11,
     "metadata": {},
     "output_type": "execute_result"
    }
   ],
   "source": [
    "test.shape"
   ]
  },
  {
   "cell_type": "code",
   "execution_count": 13,
   "metadata": {
    "ExecuteTime": {
     "end_time": "2020-08-25T15:09:25.709100Z",
     "start_time": "2020-08-25T15:09:25.672129Z"
    }
   },
   "outputs": [
    {
     "data": {
      "text/html": [
       "<div>\n",
       "<style scoped>\n",
       "    .dataframe tbody tr th:only-of-type {\n",
       "        vertical-align: middle;\n",
       "    }\n",
       "\n",
       "    .dataframe tbody tr th {\n",
       "        vertical-align: top;\n",
       "    }\n",
       "\n",
       "    .dataframe thead th {\n",
       "        text-align: right;\n",
       "    }\n",
       "</style>\n",
       "<table border=\"1\" class=\"dataframe\">\n",
       "  <thead>\n",
       "    <tr style=\"text-align: right;\">\n",
       "      <th></th>\n",
       "      <th>id</th>\n",
       "      <th>season</th>\n",
       "      <th>stage</th>\n",
       "      <th>date</th>\n",
       "      <th>home_team</th>\n",
       "      <th>away_team</th>\n",
       "      <th>home_team_goal</th>\n",
       "      <th>away_team_goal</th>\n",
       "      <th>home_w</th>\n",
       "      <th>away_w</th>\n",
       "      <th>draw</th>\n",
       "      <th>home_t_home_goals</th>\n",
       "      <th>home_t_total_goals</th>\n",
       "      <th>home_t_home_goals_against</th>\n",
       "      <th>home_t_total_goals_against</th>\n",
       "      <th>home_t_home_wins</th>\n",
       "      <th>home_t_home_losses</th>\n",
       "      <th>home_t_home_draws</th>\n",
       "      <th>home_t_total_wins</th>\n",
       "      <th>home_t_total_losses</th>\n",
       "      <th>home_t_total_draws</th>\n",
       "      <th>away_t_away_goals</th>\n",
       "      <th>away_t_total_goals</th>\n",
       "      <th>away_t_away_goals_against</th>\n",
       "      <th>away_t_total_goals_against</th>\n",
       "      <th>away_t_away_wins</th>\n",
       "      <th>away_t_away_losses</th>\n",
       "      <th>away_t_away_draws</th>\n",
       "      <th>away_t_total_wins</th>\n",
       "      <th>away_t_total_losses</th>\n",
       "      <th>away_t_total_draws</th>\n",
       "    </tr>\n",
       "  </thead>\n",
       "  <tbody>\n",
       "    <tr>\n",
       "      <th>312</th>\n",
       "      <td>4701</td>\n",
       "      <td>2015/2016</td>\n",
       "      <td>38</td>\n",
       "      <td>2016-05-15 00:00:00</td>\n",
       "      <td>Everton</td>\n",
       "      <td>Norwich City</td>\n",
       "      <td>3</td>\n",
       "      <td>0</td>\n",
       "      <td>1</td>\n",
       "      <td>0</td>\n",
       "      <td>0</td>\n",
       "      <td>32</td>\n",
       "      <td>56</td>\n",
       "      <td>30</td>\n",
       "      <td>55</td>\n",
       "      <td>5</td>\n",
       "      <td>8</td>\n",
       "      <td>5</td>\n",
       "      <td>10</td>\n",
       "      <td>13</td>\n",
       "      <td>14</td>\n",
       "      <td>13</td>\n",
       "      <td>39</td>\n",
       "      <td>34</td>\n",
       "      <td>64</td>\n",
       "      <td>3</td>\n",
       "      <td>13</td>\n",
       "      <td>2</td>\n",
       "      <td>9</td>\n",
       "      <td>21</td>\n",
       "      <td>7</td>\n",
       "    </tr>\n",
       "    <tr>\n",
       "      <th>311</th>\n",
       "      <td>4700</td>\n",
       "      <td>2015/2016</td>\n",
       "      <td>38</td>\n",
       "      <td>2016-05-15 00:00:00</td>\n",
       "      <td>Chelsea</td>\n",
       "      <td>Leicester City</td>\n",
       "      <td>1</td>\n",
       "      <td>1</td>\n",
       "      <td>0</td>\n",
       "      <td>0</td>\n",
       "      <td>1</td>\n",
       "      <td>31</td>\n",
       "      <td>58</td>\n",
       "      <td>29</td>\n",
       "      <td>52</td>\n",
       "      <td>5</td>\n",
       "      <td>5</td>\n",
       "      <td>8</td>\n",
       "      <td>12</td>\n",
       "      <td>12</td>\n",
       "      <td>13</td>\n",
       "      <td>32</td>\n",
       "      <td>67</td>\n",
       "      <td>17</td>\n",
       "      <td>35</td>\n",
       "      <td>11</td>\n",
       "      <td>2</td>\n",
       "      <td>5</td>\n",
       "      <td>23</td>\n",
       "      <td>3</td>\n",
       "      <td>11</td>\n",
       "    </tr>\n",
       "    <tr>\n",
       "      <th>310</th>\n",
       "      <td>4699</td>\n",
       "      <td>2015/2016</td>\n",
       "      <td>38</td>\n",
       "      <td>2016-05-15 00:00:00</td>\n",
       "      <td>Arsenal</td>\n",
       "      <td>Aston Villa</td>\n",
       "      <td>4</td>\n",
       "      <td>0</td>\n",
       "      <td>1</td>\n",
       "      <td>0</td>\n",
       "      <td>0</td>\n",
       "      <td>27</td>\n",
       "      <td>61</td>\n",
       "      <td>11</td>\n",
       "      <td>36</td>\n",
       "      <td>11</td>\n",
       "      <td>3</td>\n",
       "      <td>4</td>\n",
       "      <td>19</td>\n",
       "      <td>7</td>\n",
       "      <td>11</td>\n",
       "      <td>13</td>\n",
       "      <td>27</td>\n",
       "      <td>37</td>\n",
       "      <td>72</td>\n",
       "      <td>1</td>\n",
       "      <td>14</td>\n",
       "      <td>3</td>\n",
       "      <td>3</td>\n",
       "      <td>26</td>\n",
       "      <td>8</td>\n",
       "    </tr>\n",
       "    <tr>\n",
       "      <th>315</th>\n",
       "      <td>4704</td>\n",
       "      <td>2015/2016</td>\n",
       "      <td>38</td>\n",
       "      <td>2016-05-15 00:00:00</td>\n",
       "      <td>Southampton</td>\n",
       "      <td>Crystal Palace</td>\n",
       "      <td>4</td>\n",
       "      <td>1</td>\n",
       "      <td>1</td>\n",
       "      <td>0</td>\n",
       "      <td>0</td>\n",
       "      <td>35</td>\n",
       "      <td>55</td>\n",
       "      <td>21</td>\n",
       "      <td>40</td>\n",
       "      <td>10</td>\n",
       "      <td>5</td>\n",
       "      <td>3</td>\n",
       "      <td>17</td>\n",
       "      <td>11</td>\n",
       "      <td>9</td>\n",
       "      <td>19</td>\n",
       "      <td>38</td>\n",
       "      <td>24</td>\n",
       "      <td>47</td>\n",
       "      <td>5</td>\n",
       "      <td>7</td>\n",
       "      <td>6</td>\n",
       "      <td>11</td>\n",
       "      <td>17</td>\n",
       "      <td>9</td>\n",
       "    </tr>\n",
       "    <tr>\n",
       "      <th>313</th>\n",
       "      <td>4702</td>\n",
       "      <td>2015/2016</td>\n",
       "      <td>38</td>\n",
       "      <td>2016-05-17 00:00:00</td>\n",
       "      <td>Manchester United</td>\n",
       "      <td>Bournemouth</td>\n",
       "      <td>3</td>\n",
       "      <td>1</td>\n",
       "      <td>1</td>\n",
       "      <td>0</td>\n",
       "      <td>0</td>\n",
       "      <td>24</td>\n",
       "      <td>46</td>\n",
       "      <td>8</td>\n",
       "      <td>34</td>\n",
       "      <td>11</td>\n",
       "      <td>2</td>\n",
       "      <td>5</td>\n",
       "      <td>18</td>\n",
       "      <td>10</td>\n",
       "      <td>9</td>\n",
       "      <td>21</td>\n",
       "      <td>44</td>\n",
       "      <td>30</td>\n",
       "      <td>64</td>\n",
       "      <td>6</td>\n",
       "      <td>8</td>\n",
       "      <td>4</td>\n",
       "      <td>11</td>\n",
       "      <td>17</td>\n",
       "      <td>9</td>\n",
       "    </tr>\n",
       "  </tbody>\n",
       "</table>\n",
       "</div>"
      ],
      "text/plain": [
       "       id     season  stage                 date          home_team  \\\n",
       "312  4701  2015/2016     38  2016-05-15 00:00:00            Everton   \n",
       "311  4700  2015/2016     38  2016-05-15 00:00:00            Chelsea   \n",
       "310  4699  2015/2016     38  2016-05-15 00:00:00            Arsenal   \n",
       "315  4704  2015/2016     38  2016-05-15 00:00:00        Southampton   \n",
       "313  4702  2015/2016     38  2016-05-17 00:00:00  Manchester United   \n",
       "\n",
       "          away_team  home_team_goal  away_team_goal  home_w  away_w  draw  \\\n",
       "312    Norwich City               3               0       1       0     0   \n",
       "311  Leicester City               1               1       0       0     1   \n",
       "310     Aston Villa               4               0       1       0     0   \n",
       "315  Crystal Palace               4               1       1       0     0   \n",
       "313     Bournemouth               3               1       1       0     0   \n",
       "\n",
       "     home_t_home_goals  home_t_total_goals  home_t_home_goals_against  \\\n",
       "312                 32                  56                         30   \n",
       "311                 31                  58                         29   \n",
       "310                 27                  61                         11   \n",
       "315                 35                  55                         21   \n",
       "313                 24                  46                          8   \n",
       "\n",
       "     home_t_total_goals_against  home_t_home_wins  home_t_home_losses  \\\n",
       "312                          55                 5                   8   \n",
       "311                          52                 5                   5   \n",
       "310                          36                11                   3   \n",
       "315                          40                10                   5   \n",
       "313                          34                11                   2   \n",
       "\n",
       "     home_t_home_draws  home_t_total_wins  home_t_total_losses  \\\n",
       "312                  5                 10                   13   \n",
       "311                  8                 12                   12   \n",
       "310                  4                 19                    7   \n",
       "315                  3                 17                   11   \n",
       "313                  5                 18                   10   \n",
       "\n",
       "     home_t_total_draws  away_t_away_goals  away_t_total_goals  \\\n",
       "312                  14                 13                  39   \n",
       "311                  13                 32                  67   \n",
       "310                  11                 13                  27   \n",
       "315                   9                 19                  38   \n",
       "313                   9                 21                  44   \n",
       "\n",
       "     away_t_away_goals_against  away_t_total_goals_against  away_t_away_wins  \\\n",
       "312                         34                          64                 3   \n",
       "311                         17                          35                11   \n",
       "310                         37                          72                 1   \n",
       "315                         24                          47                 5   \n",
       "313                         30                          64                 6   \n",
       "\n",
       "     away_t_away_losses  away_t_away_draws  away_t_total_wins  \\\n",
       "312                  13                  2                  9   \n",
       "311                   2                  5                 23   \n",
       "310                  14                  3                  3   \n",
       "315                   7                  6                 11   \n",
       "313                   8                  4                 11   \n",
       "\n",
       "     away_t_total_losses  away_t_total_draws  \n",
       "312                   21                   7  \n",
       "311                    3                  11  \n",
       "310                   26                   8  \n",
       "315                   17                   9  \n",
       "313                   17                   9  "
      ]
     },
     "execution_count": 13,
     "metadata": {},
     "output_type": "execute_result"
    }
   ],
   "source": [
    "test.tail()"
   ]
  },
  {
   "cell_type": "code",
   "execution_count": null,
   "metadata": {},
   "outputs": [],
   "source": []
  }
 ],
 "metadata": {
  "kernelspec": {
   "display_name": "Python 3",
   "language": "python",
   "name": "python3"
  },
  "language_info": {
   "codemirror_mode": {
    "name": "ipython",
    "version": 3
   },
   "file_extension": ".py",
   "mimetype": "text/x-python",
   "name": "python",
   "nbconvert_exporter": "python",
   "pygments_lexer": "ipython3",
   "version": "3.7.7"
  },
  "toc": {
   "base_numbering": 1,
   "nav_menu": {},
   "number_sections": true,
   "sideBar": true,
   "skip_h1_title": false,
   "title_cell": "Table of Contents",
   "title_sidebar": "Contents",
   "toc_cell": false,
   "toc_position": {},
   "toc_section_display": true,
   "toc_window_display": false
  },
  "varInspector": {
   "cols": {
    "lenName": 16,
    "lenType": 16,
    "lenVar": 40
   },
   "kernels_config": {
    "python": {
     "delete_cmd_postfix": "",
     "delete_cmd_prefix": "del ",
     "library": "var_list.py",
     "varRefreshCmd": "print(var_dic_list())"
    },
    "r": {
     "delete_cmd_postfix": ") ",
     "delete_cmd_prefix": "rm(",
     "library": "var_list.r",
     "varRefreshCmd": "cat(var_dic_list()) "
    }
   },
   "types_to_exclude": [
    "module",
    "function",
    "builtin_function_or_method",
    "instance",
    "_Feature"
   ],
   "window_display": false
  }
 },
 "nbformat": 4,
 "nbformat_minor": 4
}
